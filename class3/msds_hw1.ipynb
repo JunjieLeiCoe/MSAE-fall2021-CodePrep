{
 "cells": [
  {
   "cell_type": "markdown",
   "metadata": {
    "id": "2gqU4SV_tL6k"
   },
   "source": [
    "# Homework 1 (100 points)\n",
    "\n",
    "**The very first thing you should do is save your own copy of this Homework by clicking on File -> \"Save a copy in Drive\"**\n",
    "\n",
    "This homework is divided into 3 sections which all perform different tasks on the initial data provided.  Read the data description below carefully to understand the data, then work on each section.\n",
    "\n",
    "When you complete this assignment, **please submit 1 file and 1 link via Canvas before the deadline.**\n",
    "\n",
    "\n",
    "1.   Your Jupyter Notebook code as a .py file (File -> \"Download .py\")\n",
    "2.   As a comment on your .py submission please include a link to your Google CoLab Jupyter notebook. Click the \"Share\" button in the top right.  Ensure that anyone with the link has at least \"Commenter\" access. **Once you submit your HW on Canvas, please do not make any more edits to the Jupyter notebook until after your HW is graded**\n",
    "\n",
    "For the .py file, please use the naming convention:  \n",
    "\n",
    "**firstname_lastname_homework1.py**\n",
    "\n"
   ]
  },
  {
   "cell_type": "markdown",
   "metadata": {
    "id": "-bkSOABX6-dV"
   },
   "source": [
    "## Data Description\n",
    "\n",
    "The data below represents average daily temperatures for the month of August 2000 are provided below for 7 major European cities.  Thus, each city-named variable is assigned a list of 31 values, one for every day in the month of August.  They are sequential, so the first value represents the average daily temperature on August 1 and the last value represents the average daily temperature on August 31.  \n",
    "\n",
    "In other words, the data format is:\n",
    "\n",
    "`city_name = [august1_temp, august2_temp, ... , august31_temp]`\n",
    "\n",
    "Run the code block to load the data.  Then use this data to answer questions 1 and 2."
   ]
  },
  {
   "cell_type": "code",
   "execution_count": null,
   "metadata": {
    "id": "1lLXc43i67Wv"
   },
   "outputs": [],
   "source": [
    "# Each data point represents one day in the month of August 2000. \n",
    "# e.g. the first data point was the avg daily temperature on August 1, 2000\n",
    "paris = [75.9, 67.2, 64.2, 63.3, 65.5, 67.0, 70.3, 68.1, 70.9, 68.0, 69.9, 74.0, 77.1, 74.1, 70.0, 69.8, 69.9, 67.9, 65.9, 63.3, 62.4, 63.8, 68.6, 73.3, 75.8, 70.7, 63.5, 64.6, 66.4, 66.4, 65.3]\n",
    "helsinki = [60.2, 62.1, 61.7, 61.7, 60.2, 62.7, 61.9, 58.6, 56.8, 59.8, 59.9, 61.8, 63.0, 63.9, 60.1, 64.5, 59.5, 57.4, 60.3, 60.2, 60.4, 58.9, 54.6, 54.3, 57.2, 58.9, 58.5, 59.0, 59.2, 61.1, 60.9]\n",
    "copenhagen = [61.2, 62.4, 60.6, 60.6, 59.0, 61.5, 57.6, 57.5, 58.8, 57.5, 60.5, 59.5, 58.6, 61.7, 65.5, 60.6, 60.2, 60.5, 60.3, 60.9, 57.4, 56.2, 56.3, 55.9, 57.9, 58.4, 62.0, 61.0, 61.8, 57.6, 55.5]\n",
    "rome = [73.9, 73.5, 73.6, 75.2, 71.8, 70.0, 71.4, 73.7, 73.3, 74.5, 74.9, 74.4, 79.5, 76.0, 76.8, 78.3, 77.1, 77.4, 76.4, 77.2, 77.9, 78.7, 79.6, 79.9, 77.6, 78.4, 77.8, 77.4, 76.5, 73.8, 74.9]\n",
    "madrid = [83.8, 83.8, 73.6, 67.9, 68.0, 70.5, 73.2, 75.0, 78.7, 81.2, 76.7, 74.8, 78.7, 78.7, 84.6, 83.9, 83.6, 82.3, 79.3, 75.7, 73.6, 68.6, 68.8, 73.9, 76.0, 71.9, 71.8, 73.8, 77.3, 75.9, 71.7]\n",
    "stockholm = [65.9, 62.7, 60.5, 63.9, 63.9, 63.9, 61.0, 58.1, 62.5, 63.1, 64.1, 63.6, 61.3, 64.4, 65.3, 63.6, 62.6, 62.1, 63.3, 60.3, 61.1, 59.4, 57.5, 54.7, 57.0, 61.4, 62.1, 62.4, 62.7, 61.0, 56.5]\n",
    "london = [66.6, 63.1, 61.3, 63.9, 65.1, 68.7, 68.0, 66.8, 65.4, 67.8, 67.6, 68.8, 65.9, 67.6, 65.6, 65.6, 63.0, 62.2, 64.9, 63.4, 60.8, 62.4, 64.8, 67.8, 68.3, 65.7, 61.5, 60.4, 61.2, 62.3, 61.1]"
   ]
  },
  {
   "cell_type": "markdown",
   "metadata": {
    "id": "gcATC1S-7rTJ"
   },
   "source": [
    "## Section 1 - Summary Stats\n",
    "\n",
    "**Value: 25 points (5 points per question)**\n",
    "\n",
    "Using `numpy` load the data into `numpy` arrays. Include the code and use a print statement to print the answers.\n",
    "\n",
    "1.   What are the mean, min, and max temperatures of Paris?\n",
    "2.   What is the minimum and maximum temperature in Europe (from the 7 cities provided) for the month of August?\n",
    "3.   Which city had the greatest range of temperatures in August (max - min)?  What was it?\n",
    "4.   Which city had the smallest range of temperatures in August (max - min)?  What was it?\n",
    "5.   Output an array with the daily average temperature of the 7 cities for the month.  The resulting array should have 31 elements in it, one for each day, with each data point representing the mean of the 7 daily temperatures for that day.\n",
    "\n",
    "\n",
    "\n"
   ]
  },
  {
   "cell_type": "code",
   "execution_count": null,
   "metadata": {
    "colab": {
     "base_uri": "https://localhost:8080/"
    },
    "id": "Rm-dqQEHBw8_",
    "outputId": "1b9306d6-4b8a-4b29-bc23-751f05426c99"
   },
   "outputs": [
    {
     "name": "stdout",
     "output_type": "stream",
     "text": [
      "Temperature in paris, mean: 68.49 min: 62.4 max: 77.1\n"
     ]
    }
   ],
   "source": [
    "# 1 Write code and answer below\n",
    "import numpy as np\n",
    "\n",
    "temp_data = np.array([paris, helsinki, copenhagen, rome, madrid, stockholm, london])\n",
    "print(\"Temperature in paris, mean: {:.2f} min: {} max: {}\".format(temp_data[0].mean(),temp_data[0].min(), temp_data[0].max()))"
   ]
  },
  {
   "cell_type": "code",
   "execution_count": null,
   "metadata": {
    "colab": {
     "base_uri": "https://localhost:8080/"
    },
    "id": "gNx0eGDdB6fC",
    "outputId": "1f4a06ba-e97a-432b-a9f4-2824b53cf25a"
   },
   "outputs": [
    {
     "name": "stdout",
     "output_type": "stream",
     "text": [
      "max: 84.6, min:54.3\n"
     ]
    }
   ],
   "source": [
    "# 2 Write code and answer below\n",
    "print(\"max: {}, min:{}\".format(np.max(temp_data.flatten()), np.min(temp_data.flatten())))"
   ]
  },
  {
   "cell_type": "code",
   "execution_count": null,
   "metadata": {
    "colab": {
     "base_uri": "https://localhost:8080/"
    },
    "id": "yN85h1LpB6_4",
    "outputId": "37d82916-0054-477e-c411-2f28cd38e0ca"
   },
   "outputs": [
    {
     "name": "stdout",
     "output_type": "stream",
     "text": [
      "The city with the greatest range of temperature is madrid, the max change is 16.70\n"
     ]
    }
   ],
   "source": [
    "# 3 Write code and answer below\n",
    "cities=[\"paris\", \"helsinki\", \"copenhagen\", \"rome\", \"madrid\", \"stockholm\", \"london\"]\n",
    "greatest_range=0\n",
    "pointer=0\n",
    "for i in range(7):\n",
    "  if greatest_range < (np.max(temp_data[i]) - np.min(temp_data[i])):\n",
    "    greatest_range = np.max(temp_data[i]) - np.min(temp_data[i])\n",
    "    pointer = i\n",
    "print(\"The city with the greatest range of temperature is {}, the max change is {:.2f}\".format(cities[pointer], greatest_range) )\n",
    "  "
   ]
  },
  {
   "cell_type": "code",
   "execution_count": null,
   "metadata": {
    "colab": {
     "base_uri": "https://localhost:8080/"
    },
    "id": "rZIBIv9TB7MC",
    "outputId": "f52bc183-ff82-4b2f-a362-00653baa8a9b"
   },
   "outputs": [
    {
     "name": "stdout",
     "output_type": "stream",
     "text": [
      "The city with the smallest range of temperature is london, the min change is 8.40\n"
     ]
    }
   ],
   "source": [
    "# 4 Write code and answer below\n",
    "smallest_range=1000\n",
    "pointer=0\n",
    "for i in range(7):\n",
    "  if smallest_range > (np.max(temp_data[i]) - np.min(temp_data[i])):\n",
    "    smallest_range = np.max(temp_data[i]) - np.min(temp_data[i])\n",
    "    pointer = i\n",
    "print(\"The city with the smallest range of temperature is {}, the min change is {:.2f}\".format(cities[pointer], smallest_range) )"
   ]
  },
  {
   "cell_type": "code",
   "execution_count": null,
   "metadata": {
    "colab": {
     "base_uri": "https://localhost:8080/"
    },
    "id": "I4N05-cdB7ZF",
    "outputId": "7235f2ac-c9f6-4822-ebf0-bfe5637dae71"
   },
   "outputs": [
    {
     "name": "stdout",
     "output_type": "stream",
     "text": [
      "['69.64', '67.83', '65.07', '65.21', '64.79', '66.33', '66.20', '65.40', '66.63', '67.41', '67.66', '68.13', '69.16', '69.49', '69.70', '69.47', '67.99', '67.11', '67.20', '65.86', '64.80', '64.00', '64.31', '65.69', '67.11', '66.49', '65.31', '65.51', '66.44', '65.44', '63.70']\n"
     ]
    }
   ],
   "source": [
    "# 5 Write code and answer below\n",
    "daily_avg_euro=[]\n",
    "for i in range(31):\n",
    "  daily_avg_euro.append(\"{:.2f}\".format(np.mean(temp_data, axis=0)[i]))\n",
    "print(daily_avg_euro)"
   ]
  },
  {
   "cell_type": "markdown",
   "metadata": {
    "id": "iOEwecFouFkj"
   },
   "source": [
    "## Section 2 - Data Transformation\n",
    "**Value: 50 points total**\n",
    "\n",
    "**Part 1 (15 points)**\n",
    "Numbers are useful, but sometimes we can extract more insight from data if we find a way to group or categorize the numbers in a meaningful way.  For the temperature data, let's group this data into temperature categories as defined below.\n",
    "\n",
    "---\n",
    "\n",
    "\n",
    "80+ degrees: \"Hot\"\n",
    "\n",
    "70 <= x < 80 degrees:  \"Warm\"\n",
    "\n",
    "60 <= x < 70 degrees:  \"Cool\"\n",
    "\n",
    "Less than 60 degrees:  \"Cold\"\n",
    "\n",
    "\n",
    "---\n",
    "\n",
    "\n",
    "**Pick one city**, iterate through the temperature array and create a new array or list that contains the categories above based on the avg daily temperature.\n",
    "\n",
    "The output should thus be an array (or list) that has 31 elements.  Each element is a string that is either `\"Hot\"`, `\"Warm\"`, `\"Cool\"` or `\"Cold\"`. Let's name this new array `cityname_temperature_categories` where `cityname` should be replaced with the city you chose.\n",
    "\n",
    "Example:  The first few values of `paris_temperature_categories` would be `[\"Warm\", \"Cool\", \"Cool\", \"Cool\" ... ]`\n",
    "\n",
    "*Hint: Use `if` and `elif` statements combined with one or more `for` loops.*\n",
    "\n",
    "*Challenge: For a challenge (not required), find a way to scale your transformation solution to all 7 cities, perhaps using loops or functions*\n"
   ]
  },
  {
   "cell_type": "code",
   "execution_count": null,
   "metadata": {
    "colab": {
     "base_uri": "https://localhost:8080/"
    },
    "id": "ze0Zv2Z4fJJn",
    "outputId": "b6b8658d-1a04-4747-c1db-47a97538f48c"
   },
   "outputs": [
    {
     "name": "stdout",
     "output_type": "stream",
     "text": [
      "['Warm', 'Cool', 'Cool', 'Cool', 'Cool', 'Cool', 'Warm', 'Cool', 'Warm', 'Cool', 'Cool', 'Warm', 'Warm', 'Warm', 'Warm', 'Cool', 'Cool', 'Cool', 'Cool', 'Cool', 'Cool', 'Cool', 'Cool', 'Warm', 'Warm', 'Warm', 'Cool', 'Cool', 'Cool', 'Cool', 'Cool']\n",
      "['Cool', 'Cool', 'Cool', 'Cool', 'Cool', 'Cool', 'Cool', 'Cold', 'Cold', 'Cold', 'Cold', 'Cool', 'Cool', 'Cool', 'Cool', 'Cool', 'Cold', 'Cold', 'Cool', 'Cool', 'Cool', 'Cold', 'Cold', 'Cold', 'Cold', 'Cold', 'Cold', 'Cold', 'Cold', 'Cool', 'Cool']\n",
      "['Cool', 'Cool', 'Cool', 'Cool', 'Cold', 'Cool', 'Cold', 'Cold', 'Cold', 'Cold', 'Cool', 'Cold', 'Cold', 'Cool', 'Cool', 'Cool', 'Cool', 'Cool', 'Cool', 'Cool', 'Cold', 'Cold', 'Cold', 'Cold', 'Cold', 'Cold', 'Cool', 'Cool', 'Cool', 'Cold', 'Cold']\n",
      "['Warm', 'Warm', 'Warm', 'Warm', 'Warm', 'Warm', 'Warm', 'Warm', 'Warm', 'Warm', 'Warm', 'Warm', 'Warm', 'Warm', 'Warm', 'Warm', 'Warm', 'Warm', 'Warm', 'Warm', 'Warm', 'Warm', 'Warm', 'Warm', 'Warm', 'Warm', 'Warm', 'Warm', 'Warm', 'Warm', 'Warm']\n",
      "['Hot', 'Hot', 'Warm', 'Cool', 'Cool', 'Warm', 'Warm', 'Warm', 'Warm', 'Hot', 'Warm', 'Warm', 'Warm', 'Warm', 'Hot', 'Hot', 'Hot', 'Hot', 'Warm', 'Warm', 'Warm', 'Cool', 'Cool', 'Warm', 'Warm', 'Warm', 'Warm', 'Warm', 'Warm', 'Warm', 'Warm']\n",
      "['Cool', 'Cool', 'Cool', 'Cool', 'Cool', 'Cool', 'Cool', 'Cold', 'Cool', 'Cool', 'Cool', 'Cool', 'Cool', 'Cool', 'Cool', 'Cool', 'Cool', 'Cool', 'Cool', 'Cool', 'Cool', 'Cold', 'Cold', 'Cold', 'Cold', 'Cool', 'Cool', 'Cool', 'Cool', 'Cool', 'Cold']\n",
      "['Cool', 'Cool', 'Cool', 'Cool', 'Cool', 'Cool', 'Cool', 'Cool', 'Cool', 'Cool', 'Cool', 'Cool', 'Cool', 'Cool', 'Cool', 'Cool', 'Cool', 'Cool', 'Cool', 'Cool', 'Cool', 'Cool', 'Cool', 'Cool', 'Cool', 'Cool', 'Cool', 'Cool', 'Cool', 'Cool', 'Cool']\n"
     ]
    }
   ],
   "source": [
    "# Write code below. \n",
    "def grouping(i, cityname_temperature_categories):\n",
    "  for temperatue in temp_data[i]:\n",
    "    if temperatue >= 80:\n",
    "      cityname_temperature_categories.append(\"Hot\")\n",
    "    elif temperatue < 80 and temperatue >= 70:\n",
    "      cityname_temperature_categories.append(\"Warm\")\n",
    "    elif temperatue < 70 and temperatue >= 60:\n",
    "      cityname_temperature_categories.append(\"Cool\")\n",
    "    elif temperatue < 60:\n",
    "      cityname_temperature_categories.append(\"Cold\")\n",
    "  return cityname_temperature_categories\n",
    "\n",
    "index=0\n",
    "for city in cities:\n",
    "  #https://www.daniweb.com/programming/software-development/threads/111526/setting-a-string-as-a-variable-name\n",
    "  naming = city+\"_temperature_categories\"\n",
    "  vars()[naming]=[]\n",
    "  \n",
    "  grouping(index, vars()[naming])\n",
    "  index+=1\n",
    "\n",
    "print(paris_temperature_categories)\n",
    "print(helsinki_temperature_categories)\n",
    "print(copenhagen_temperature_categories)\n",
    "print(rome_temperature_categories)\n",
    "print(madrid_temperature_categories)\n",
    "print(stockholm_temperature_categories)\n",
    "print(london_temperature_categories)\n",
    "#print()\n",
    "\n",
    "# Print your output array below"
   ]
  },
  {
   "cell_type": "markdown",
   "metadata": {
    "id": "jytX9f2kZUIE"
   },
   "source": [
    "**Part 2 (20 points)**\n",
    "\n",
    "Suppose we want to better understand how the temperatures fluctuate from day to day.  **Pick one city (can be the same city as part 1)** and let's create a new array (or list) that measures the delta between the temperature on **day** and **day+1**.  \n",
    "\n",
    "This should result in a an array/list with 30 elements in it.  The first element (at index 0) would be the temperature delta August 2 - August 1, the second element (at index 1) would be August 3 - August 2, and so on until the final element is August 31 - August 30. Let's name this new array `cityname_daily_deltas` where `cityname` should be replaced with the city you chose.\n",
    "\n",
    "Example: The first few values of `paris_daily_deltas` would be `[-8.7, -3. , -0.9,  2.2 ... ]`\n",
    "\n",
    "\n",
    "*Hint:  There are multiple ways to accomplish this. Feel free to choose whichever way you are most comfortable with.  One way could involve creating a new list by looping through the original list.  Another way could involve copying and slicing arrays, then element-wise subtracting.*\n",
    "\n",
    "*Challenge: For a challenge (not required), find a way to scale your transformation solution to all 7 cities, perhaps using loops or functions*\n",
    "\n",
    "\n"
   ]
  },
  {
   "cell_type": "code",
   "execution_count": null,
   "metadata": {
    "colab": {
     "base_uri": "https://localhost:8080/"
    },
    "id": "d-WFYOqvyBBu",
    "outputId": "204600ec-5f6d-46aa-f212-fa4ddc102d47"
   },
   "outputs": [
    {
     "name": "stdout",
     "output_type": "stream",
     "text": [
      "paris\n",
      "[-8.7, -3.0, -0.9, 2.2, 1.5, 3.3, -2.2, 2.8, -2.9, 1.9, 4.1, 3.1, -3.0, -4.1, -0.2, 0.1, -2.0, -2.0, -2.6, -0.9, 1.4, 4.8, 4.7, 2.5, -5.1, -7.2, 1.1, 1.8, 0.0, -1.1]\n",
      "helsinki\n",
      "[1.9, -0.4, 0.0, -1.5, 2.5, -0.8, -3.3, -1.8, 3.0, 0.1, 1.9, 1.2, 0.9, -3.8, 4.4, -5.0, -2.1, 2.9, -0.1, 0.2, -1.5, -4.3, -0.3, 2.9, 1.7, -0.4, 0.5, 0.2, 1.9, -0.2]\n",
      "copenhagen\n",
      "[1.2, -1.8, 0.0, -1.6, 2.5, -3.9, -0.1, 1.3, -1.3, 3.0, -1.0, -0.9, 3.1, 3.8, -4.9, -0.4, 0.3, -0.2, 0.6, -3.5, -1.2, 0.1, -0.4, 2.0, 0.5, 3.6, -1.0, 0.8, -4.2, -2.1]\n",
      "rome\n",
      "[-0.4, 0.1, 1.6, -3.4, -1.8, 1.4, 2.3, -0.4, 1.2, 0.4, -0.5, 5.1, -3.5, 0.8, 1.5, -1.2, 0.3, -1.0, 0.8, 0.7, 0.8, 0.9, 0.3, -2.3, 0.8, -0.6, -0.4, -0.9, -2.7, 1.1]\n",
      "madrid\n",
      "[0.0, -10.2, -5.7, 0.1, 2.5, 2.7, 1.8, 3.7, 2.5, -4.5, -1.9, 3.9, 0.0, 5.9, -0.7, -0.3, -1.3, -3.0, -3.6, -2.1, -5.0, 0.2, 5.1, 2.1, -4.1, -0.1, 2.0, 3.5, -1.4, -4.2]\n",
      "stockholm\n",
      "[-3.2, -2.2, 3.4, 0.0, 0.0, -2.9, -2.9, 4.4, 0.6, 1.0, -0.5, -2.3, 3.1, 0.9, -1.7, -1.0, -0.5, 1.2, -3.0, 0.8, -1.7, -1.9, -2.8, 2.3, 4.4, 0.7, 0.3, 0.3, -1.7, -4.5]\n",
      "London\n",
      "[-3.5, -1.8, 2.6, 1.2, 3.6, -0.7, -1.2, -1.4, 2.4, -0.2, 1.2, -2.9, 1.7, -2.0, 0.0, -2.6, -0.8, 2.7, -1.5, -2.6, 1.6, 2.4, 3.0, 0.5, -2.6, -4.2, -1.1, 0.8, 1.1, -1.2]\n"
     ]
    }
   ],
   "source": [
    "# Write code below. \n",
    "\n",
    "def compute_Deltas(city):\n",
    "  daily_data = []\n",
    "  for i in range(1,31):\n",
    "    daily_data.append(round(city[i]-city[i-1], 2))\n",
    "  print(daily_data)\n",
    "  return daily_data\n",
    "\n",
    "print(\"paris\")\n",
    "paris_daily_deltas = compute_Deltas(temp_data[0])\n",
    "print(\"helsinki\")\n",
    "helsinki_daily_deltas = compute_Deltas(temp_data[1])\n",
    "print(\"copenhagen\")\n",
    "copenhagen_daily_deltas = compute_Deltas(temp_data[2])\n",
    "print(\"rome\")\n",
    "rome_daily_deltas = compute_Deltas(temp_data[3])\n",
    "print(\"madrid\")\n",
    "madrid_daily_deltas = compute_Deltas(temp_data[4])\n",
    "print(\"stockholm\")\n",
    "stockholm_daily_deltas = compute_Deltas(temp_data[5])\n",
    "print(\"London\")\n",
    "london_daily_deltas = compute_Deltas(temp_data[6])\n",
    "# Print your output array below"
   ]
  },
  {
   "cell_type": "markdown",
   "metadata": {
    "id": "ye32P-SFNcaP"
   },
   "source": [
    "**Part 3 (15 points)**\n",
    "\n",
    "Now, we want to translate the deltas in the delta arrays we created in Part 2 from numeric values into text categories.  Using the following definitions, create new arrays (or lists) that contain the given text string translation of the numeric value.  \n",
    "\n",
    "The result should be an arrays with 30 elements, as we are simply transforming the numeric values into text categories. Let's name this new array `cityname_daily_delta_categories` where `cityname` should be replaced with the city you chose in part 2.\n",
    "\n",
    "Example: The first few values of `paris_daily_delta_categories` would be [\"large_decrease\", \"small_decrease\" , \"no_significant_change\", \"small_increase\" ... ]\n",
    "\n",
    "---\n",
    "\n",
    "\n",
    "x >= 7     : \"large_increase\"\n",
    "\n",
    "3 <= x < 7 : \"medium_increase\"\n",
    "\n",
    "1 <= x < 3 : \"small_increase\" \n",
    "\n",
    "-1 <= x < 1 : \"no_significant_change\"\n",
    "\n",
    "-3 <= x < -1 : \"small_decrease\"\n",
    "\n",
    "-7 <= x < -3 : \"medium_decrease\"\n",
    "\n",
    "x < -7       : \"large_decrease\"\n",
    "\n",
    "\n",
    "---\n",
    "\n",
    "*Challenge: For a challenge (not required), find a way to scale your transformation solution to all 7 cities, perhaps using loops or functions*\n",
    "\n"
   ]
  },
  {
   "cell_type": "code",
   "execution_count": null,
   "metadata": {
    "colab": {
     "base_uri": "https://localhost:8080/"
    },
    "id": "xIjlmjJrNbUJ",
    "outputId": "c2b9b15d-795a-410e-b883-a5e2da75a6a3"
   },
   "outputs": [
    {
     "name": "stdout",
     "output_type": "stream",
     "text": [
      "['large_decrease', 'small_decrease', 'no_significant_change', 'small_increase', 'small_increase', 'medium_increase', 'small_decrease', 'small_increase', 'small_decrease', 'small_increase', 'medium_increase', 'medium_increase', 'small_decrease', 'medium_decrease', 'no_significant_change', 'no_significant_change', 'small_decrease', 'small_decrease', 'small_decrease', 'no_significant_change', 'small_increase', 'medium_increase', 'medium_increase', 'small_increase', 'medium_decrease', 'large_decrease', 'small_increase', 'small_increase', 'no_significant_change', 'small_decrease']\n"
     ]
    }
   ],
   "source": [
    "# Write your code below. \n",
    "paris_daily_delta_categories = []\n",
    "for x in paris_daily_deltas:\n",
    "  if x >= 7:\n",
    "    paris_daily_delta_categories.append(\"large_increase\")\n",
    "  elif x < 7 and x >= 3:\n",
    "    paris_daily_delta_categories.append(\"medium_increase\")\n",
    "  elif  x < 3 and x >= 1:\n",
    "    paris_daily_delta_categories.append(\"small_increase\")\n",
    "  elif  x < 1 and x >= -1:\n",
    "    paris_daily_delta_categories.append(\"no_significant_change\")\n",
    "  elif  x < -1 and x >= -3:\n",
    "    paris_daily_delta_categories.append(\"small_decrease\")\n",
    "  elif  x < -3 and x >= -7:\n",
    "    paris_daily_delta_categories.append(\"medium_decrease\")\n",
    "  elif x < -7:\n",
    "    paris_daily_delta_categories.append(\"large_decrease\")\n",
    "\n",
    "\n",
    "print(paris_daily_delta_categories)\n",
    "# Print your output array below"
   ]
  },
  {
   "cell_type": "markdown",
   "metadata": {
    "id": "wXFLdRfHk7Re"
   },
   "source": [
    "## Section 3 - Histogram\n",
    "**Value: 25 points (10 points for writing the function, 10 points for passing all test cases, 5 points for running your function on the arrays from section 2)**\n",
    "\n",
    "Write a **function** to create a histogram (a frequency distribution) of an arbitrary list of input values.  The function will take in as input a **list** of values, and return a dictionary with **keys** representing each value in the input list and **values** representing the frequency with which they appear in the input list.\n",
    "\n",
    "For example, given input `[\"M\", \"F\", \"F\", \"F, \"M\"]`, the function should return `{\"M\": 2, \"F\": 3}` as there are two \"M\" and three \"F\" in the input list.\n",
    "\n",
    "*Hint:  For every value you process, you will need to consider whether you need to add a new key to the output dictionary `histogram` or increment the stored count for an existing key.* "
   ]
  },
  {
   "cell_type": "code",
   "execution_count": null,
   "metadata": {
    "id": "pIfoUtNLk2BO"
   },
   "outputs": [],
   "source": [
    "def create_histogram(input_list):\n",
    "    modify_input_list = set(input_list)\n",
    "    histogram = {}\n",
    "    for keys in modify_input_list:\n",
    "      count = 0\n",
    "      for x in input_list:\n",
    "        if x == keys:\n",
    "          count+=1\n",
    "      histogram[keys] = count\n",
    "    return histogram\n"
   ]
  },
  {
   "cell_type": "code",
   "execution_count": null,
   "metadata": {
    "colab": {
     "base_uri": "https://localhost:8080/"
    },
    "id": "qBqMgrazo12V",
    "outputId": "2d2fade4-8182-4673-b314-cb6770b3c6fd"
   },
   "outputs": [
    {
     "name": "stdout",
     "output_type": "stream",
     "text": [
      "Passed first test case\n",
      "Passed second test case\n",
      "Passed third test case\n",
      "Passes all tests\n"
     ]
    }
   ],
   "source": [
    "# Below are a few test cases. Don't modify the code below. Simply run this code block.\n",
    "# If you get an assertion error, this means that at least one of the test cases is failing.\n",
    "# If it gets to the print statement, this means that all tests have passed\n",
    "\n",
    "assert(create_histogram([1,1,1,1,1,1,1,1,1,2]) == {1:9, 2:1})\n",
    "print(\"Passed first test case\")\n",
    "assert(create_histogram([\"black\", \"blue\", \"yellow\", \"black\", \"blue\", \"red\", \"\", \"green\"]) == {'': 1, 'black': 2, 'blue': 2, 'green': 1, 'red': 1, 'yellow': 1})\n",
    "print(\"Passed second test case\")\n",
    "assert(create_histogram([l for l in \"how many of each letter are in this sentence\"]) == \n",
    "{' ': 8,\n",
    " 'a': 3,\n",
    " 'c': 2,\n",
    " 'e': 7,\n",
    " 'f': 1,\n",
    " 'h': 3,\n",
    " 'i': 2,\n",
    " 'l': 1,\n",
    " 'm': 1,\n",
    " 'n': 4,\n",
    " 'o': 2,\n",
    " 'r': 2,\n",
    " 's': 2,\n",
    " 't': 4,\n",
    " 'w': 1,\n",
    " 'y': 1})\n",
    "print(\"Passed third test case\")\n",
    "print(\"Passes all tests\")"
   ]
  },
  {
   "cell_type": "markdown",
   "metadata": {
    "id": "_1hLMwD7sRke"
   },
   "source": [
    "**Putting it all together**\n",
    "\n",
    "Try running your new `create_histogram` function on the arrays you created from Section 2 to see the frequency distribution of the categories you defined.  \n",
    "\n",
    "*Side Note: If you took the challenge to scale your solutions to all 7 cities, it would be especially interesting to compare the relative distributions of the temperature categories and delta categories across cities.*"
   ]
  },
  {
   "cell_type": "code",
   "execution_count": null,
   "metadata": {
    "colab": {
     "base_uri": "https://localhost:8080/"
    },
    "id": "IK06tvKxgK8D",
    "outputId": "b1a8f6f9-2170-4e24-d59b-17ce2c1dd159"
   },
   "outputs": [
    {
     "name": "stdout",
     "output_type": "stream",
     "text": [
      "{'Cool': 21, 'Warm': 10}\n",
      "{'Cool': 17, 'Cold': 14}\n",
      "{'Cool': 16, 'Cold': 15}\n",
      "{'Warm': 31}\n",
      "{'Cool': 4, 'Hot': 7, 'Warm': 20}\n",
      "{'Cool': 25, 'Cold': 6}\n",
      "{'Cool': 31}\n",
      "{-0.4: 2, 1.9: 3, 2.5: 1, 0.0: 1, -0.8: 1, 3.0: 1, 1.2: 1, 0.9: 1, 4.4: 1, 2.9: 2, 1.7: 1, 0.5: 1, -3.3: 1, 0.2: 2, -0.3: 1, 0.1: 1, -0.1: 1, -0.2: 1, -1.5: 2, -5.0: 1, -4.3: 1, -3.8: 1, -2.1: 1, -1.8: 1}\n",
      "{0.0: 1, 1.2: 1, 2.5: 1, 1.3: 1, 3.0: 1, -0.9: 1, 3.1: 1, 3.8: 1, -0.4: 2, 0.3: 1, 2.0: 1, 0.5: 1, 3.6: 1, 0.6: 1, -1.3: 1, -4.2: 1, -0.1: 1, 0.1: 1, -1.2: 1, -0.2: 1, 0.8: 1, -2.1: 1, -1.6: 1, -3.5: 1, -4.9: 1, -3.9: 1, -1.0: 2, -1.8: 1}\n",
      "{-0.4: 3, 1.6: 1, 1.4: 1, 2.3: 1, 1.2: 1, 0.4: 1, -0.5: 1, 5.1: 1, 0.8: 4, 1.5: 1, 1.1: 1, -3.4: 1, -0.9: 1, -1.8: 1, 0.7: 1, -2.3: 1, -2.7: 1, 0.1: 1, 0.3: 2, 0.9: 1, -0.6: 1, -3.5: 1, -1.0: 1, -1.2: 1}\n",
      "{0.0: 2, 1.8: 1, 2.5: 2, 2.7: 1, 3.7: 1, 3.9: 1, 5.9: 1, -0.7: 1, -0.3: 1, 0.2: 1, 5.1: 1, 2.1: 1, 2.0: 1, 3.5: 1, -1.9: 1, -1.4: 1, -5.7: 1, -4.2: 1, 0.1: 1, -0.1: 1, -4.1: 1, -3.0: 1, -10.2: 1, -5.0: 1, -4.5: 1, -3.6: 1, -2.1: 1, -1.3: 1}\n",
      "{0.0: 2, 0.6: 1, 1.0: 1, 3.4: 1, 4.4: 2, -0.5: 2, 3.1: 1, 0.9: 1, 1.2: 1, 0.8: 1, 2.3: 1, -2.9: 2, -3.2: 1, 0.7: 1, -2.3: 1, -2.8: 1, -1.7: 3, 0.3: 2, -1.0: 1, -4.5: 1, -3.0: 1, -2.2: 1, -1.9: 1}\n",
      "{-0.7: 1, 1.2: 2, 2.6: 1, 3.6: 1, 2.4: 2, -0.2: 1, 1.7: 1, 0.0: 1, -0.8: 1, 2.7: 1, 1.6: 1, 3.0: 1, 0.5: 1, -2.9: 1, -1.4: 1, 1.1: 1, -1.8: 1, -1.2: 2, 0.8: 1, -2.6: 3, -1.1: 1, -4.2: 1, -3.5: 1, -2.0: 1, -1.5: 1}\n"
     ]
    }
   ],
   "source": [
    "# Pass the arrays you created in Section 2 into your `create_histogram` function\n",
    "#Section 2 \n",
    "##Part1\n",
    "print(create_histogram(paris_temperature_categories))\n",
    "print(create_histogram(helsinki_temperature_categories))\n",
    "print(create_histogram(copenhagen_temperature_categories))\n",
    "print(create_histogram(rome_temperature_categories))\n",
    "print(create_histogram(madrid_temperature_categories))\n",
    "print(create_histogram(stockholm_temperature_categories))\n",
    "print(create_histogram(london_temperature_categories))\n",
    "\n",
    "\n",
    "#print(create_histogram(paris_daily_deltas))\n",
    "print(create_histogram(helsinki_daily_deltas))\n",
    "print(create_histogram(copenhagen_daily_deltas))\n",
    "print(create_histogram(rome_daily_deltas))\n",
    "print(create_histogram(madrid_daily_deltas))\n",
    "print(create_histogram(stockholm_daily_deltas))\n",
    "print(create_histogram(london_daily_deltas))"
   ]
  },
  {
   "cell_type": "code",
   "execution_count": null,
   "metadata": {
    "colab": {
     "base_uri": "https://localhost:8080/"
    },
    "id": "pQ08keGfjZnh",
    "outputId": "b26814e4-a698-44e4-b2f6-f2bf2b95fcdf"
   },
   "outputs": [
    {
     "data": {
      "text/plain": [
       "[-3.5,\n",
       " -1.8,\n",
       " 2.6,\n",
       " 1.2,\n",
       " 3.6,\n",
       " -0.7,\n",
       " -1.2,\n",
       " -1.4,\n",
       " 2.4,\n",
       " -0.2,\n",
       " 1.2,\n",
       " -2.9,\n",
       " 1.7,\n",
       " -2.0,\n",
       " 0.0,\n",
       " -2.6,\n",
       " -0.8,\n",
       " 2.7,\n",
       " -1.5,\n",
       " -2.6,\n",
       " 1.6,\n",
       " 2.4,\n",
       " 3.0,\n",
       " 0.5,\n",
       " -2.6,\n",
       " -4.2,\n",
       " -1.1,\n",
       " 0.8,\n",
       " 1.1,\n",
       " -1.2]"
      ]
     },
     "execution_count": 26,
     "metadata": {},
     "output_type": "execute_result"
    }
   ],
   "source": [
    "london_daily_deltas\n"
   ]
  },
  {
   "cell_type": "code",
   "execution_count": null,
   "metadata": {
    "id": "CGFAS7aSvHvh"
   },
   "outputs": [],
   "source": [
    "import pandas as pd\n",
    "df = pd.DataFrame(london_daily_deltas)"
   ]
  },
  {
   "cell_type": "code",
   "execution_count": null,
   "metadata": {
    "colab": {
     "base_uri": "https://localhost:8080/",
     "height": 285
    },
    "id": "jB3Hs_P46dUA",
    "outputId": "36536c09-70e0-42fe-f435-fbdc812d008c"
   },
   "outputs": [
    {
     "data": {
      "text/plain": [
       "<matplotlib.axes._subplots.AxesSubplot at 0x7fa455932250>"
      ]
     },
     "execution_count": 14,
     "metadata": {},
     "output_type": "execute_result"
    },
    {
     "data": {
      "image/png": "[encoded data removed]",
      "text/plain": [
       "<Figure size 432x288 with 1 Axes>"
      ]
     },
     "metadata": {
      "needs_background": "light"
     },
     "output_type": "display_data"
    }
   ],
   "source": [
    "df.plot.bar()"
   ]
  },
  {
   "cell_type": "code",
   "execution_count": null,
   "metadata": {
    "id": "yIf_ilgW6qdc"
   },
   "outputs": [],
   "source": [
    "from collections import Counter"
   ]
  },
  {
   "cell_type": "code",
   "execution_count": null,
   "metadata": {
    "id": "1Y0XTZJF7myl"
   },
   "outputs": [],
   "source": [
    "my_lst = (1,2,2)"
   ]
  },
  {
   "cell_type": "code",
   "execution_count": null,
   "metadata": {
    "colab": {
     "base_uri": "https://localhost:8080/"
    },
    "id": "SbziuISI7sWe",
    "outputId": "2e16a8de-17fa-4a68-ddd2-18c91a14be9e"
   },
   "outputs": [
    {
     "data": {
      "text/plain": [
       "Counter({1: 1, 2: 2})"
      ]
     },
     "execution_count": 17,
     "metadata": {},
     "output_type": "execute_result"
    }
   ],
   "source": [
    "Counter(my_lst)"
   ]
  },
  {
   "cell_type": "code",
   "execution_count": null,
   "metadata": {
    "id": "_UrnmfUB7wnf"
   },
   "outputs": [],
   "source": [
    "#  [ ]\n",
    "#  ( )\n",
    "# Set: { }\n",
    "# Dict: { } --> \n",
    "\n",
    "my_dict = {\n",
    "    \"first_name\": \"junjie\",\n",
    "    \"last_name\" : \"Lei\"\n",
    "}"
   ]
  },
  {
   "cell_type": "code",
   "execution_count": null,
   "metadata": {
    "colab": {
     "base_uri": "https://localhost:8080/"
    },
    "id": "CG8kiYnj8Pw-",
    "outputId": "9531690b-cd36-4f03-e0fa-9ce3d1ff0dc1"
   },
   "outputs": [
    {
     "data": {
      "text/plain": [
       "dict"
      ]
     },
     "execution_count": 19,
     "metadata": {},
     "output_type": "execute_result"
    }
   ],
   "source": [
    "type(my_dict)"
   ]
  },
  {
   "cell_type": "code",
   "execution_count": null,
   "metadata": {
    "colab": {
     "base_uri": "https://localhost:8080/"
    },
    "id": "Ibl_NugK8Rrq",
    "outputId": "e0e2d5ff-634e-468d-9e3f-8da1051221f0"
   },
   "outputs": [
    {
     "name": "stdout",
     "output_type": "stream",
     "text": [
      "first_name junjie\n",
      "last_name Lei\n"
     ]
    }
   ],
   "source": [
    "for k,v in my_dict.items():\n",
    "    print(k,v)"
   ]
  },
  {
   "cell_type": "code",
   "execution_count": null,
   "metadata": {
    "id": "iwhKQMia8aM1"
   },
   "outputs": [],
   "source": [
    "my_set = {1,2,3}"
   ]
  },
  {
   "cell_type": "code",
   "execution_count": null,
   "metadata": {
    "colab": {
     "base_uri": "https://localhost:8080/"
    },
    "id": "vTYV95ie8gFD",
    "outputId": "08fa2dd8-2e3f-447e-c798-27a5c062757d"
   },
   "outputs": [
    {
     "data": {
      "text/plain": [
       "set"
      ]
     },
     "execution_count": 22,
     "metadata": {},
     "output_type": "execute_result"
    }
   ],
   "source": [
    "type(my_set)"
   ]
  },
  {
   "cell_type": "code",
   "execution_count": null,
   "metadata": {
    "colab": {
     "base_uri": "https://localhost:8080/"
    },
    "id": "KyvrwdCx8h9h",
    "outputId": "0bd05d91-ce6c-4234-be7e-03520bd6c3d2"
   },
   "outputs": [
    {
     "name": "stdout",
     "output_type": "stream",
     "text": [
      "dict_keys(['first_name', 'last_name'])\n",
      "dict_values(['junjie', 'Lei'])\n"
     ]
    }
   ],
   "source": [
    "print(my_dict.keys())\n",
    "print(my_dict.values())"
   ]
  },
  {
   "cell_type": "code",
   "execution_count": null,
   "metadata": {
    "colab": {
     "base_uri": "https://localhost:8080/"
    },
    "id": "qBzXU62h8y9y",
    "outputId": "c21e2360-c8ac-4988-e5e3-11b118356dd5"
   },
   "outputs": [
    {
     "name": "stdout",
     "output_type": "stream",
     "text": [
      "dict_items([('first_name', 'junjie'), ('last_name', 'Lei')])\n"
     ]
    }
   ],
   "source": [
    "print(my_dict.items())"
   ]
  },
  {
   "cell_type": "code",
   "execution_count": null,
   "metadata": {
    "colab": {
     "base_uri": "https://localhost:8080/"
    },
    "id": "sXfACbQe9ECN",
    "outputId": "2119b237-2a66-49ad-deb5-62f1ff0f72c0"
   },
   "outputs": [
    {
     "name": "stdout",
     "output_type": "stream",
     "text": [
      "-4\n",
      "2\n",
      "2\n"
     ]
    }
   ],
   "source": [
    "lst = [2,4,6]\n",
    "\n",
    "for i in range(0,len(lst),1):\n",
    "    # print(i)\n",
    "    delta = lst[i] - lst[i-1]\n",
    "    print(delta)"
   ]
  }
 ],
 "metadata": {
  "colab": {
   "collapsed_sections": [],
   "name": "msds-hw1",
   "provenance": []
  },
  "kernelspec": {
   "display_name": "Python 3 (ipykernel)",
   "language": "python",
   "name": "python3"
  },
  "language_info": {
   "codemirror_mode": {
    "name": "ipython",
    "version": 3
   },
   "file_extension": ".py",
   "mimetype": "text/x-python",
   "name": "python",
   "nbconvert_exporter": "python",
   "pygments_lexer": "ipython3",
   "version": "3.9.2"
  }
 },
 "nbformat": 4,
 "nbformat_minor": 1
}
