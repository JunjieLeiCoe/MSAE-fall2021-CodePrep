{
 "cells": [
  {
   "cell_type": "code",
   "execution_count": 53,
   "id": "0fde7d6f",
   "metadata": {},
   "outputs": [],
   "source": [
    "\n",
    "\n",
    "\n",
    "# define a coin\n",
    "import random\n",
    "def coin():\n",
    "    coin_value = random.randint(1,2)\n",
    "    if coin_value == 1:\n",
    "        return \"head\"\n",
    "    else: \n",
    "        return \"tail\"\n",
    "    \n",
    "def flip_10_times():\n",
    "    for i in range(0,10,2):\n",
    "        res = coin()\n",
    "        print(res)\n",
    "        \n",
    "def flip_10_times_2():\n",
    "    counter = 0\n",
    "    while counter < 10:\n",
    "        res = coin()\n",
    "        counter += 1\n",
    "        print(res)\n",
    "        \n",
    "def flip_n_times(n):\n",
    "    for i in range(0, n,1):\n",
    "        res = coin()\n",
    "        print(res)\n",
    "        \n",
    "def ten_heads_streak():\n",
    "    current_streak = 0\n",
    "    counter = 0\n",
    "    \n",
    "    while current_streak < 10:\n",
    "        res = coin()\n",
    "#         print(res)\n",
    "        counter += 1\n",
    "        if res == \"head\":\n",
    "            current_streak += 1\n",
    "        else:\n",
    "            current_streak = 0\n",
    "    \n",
    "    return counter\n",
    "    \n",
    "def n_heads_streak(n):\n",
    "    current_streak = 0\n",
    "    counter = 0\n",
    "    lst = []\n",
    "    \n",
    "    while current_streak < n:\n",
    "        res = coin()\n",
    "        lst.append(res)\n",
    "        \n",
    "#         print(res)\n",
    "        counter += 1\n",
    "        if res == \"head\":\n",
    "            current_streak += 1\n",
    "#             my_head_list.append(res)\n",
    "        else:\n",
    "            current_streak = 0\n",
    "#             my_tail_list.append(res)\n",
    "    print(\"heads = {:.2f}\\ntails={:.2f}\".format(lst.count(\"head\")/len(lst),\n",
    "                                        lst.count(\"tail\")/len(lst)))\n",
    "    return counter\n",
    "    \n",
    "\n",
    "def n_head_tail():\n",
    "    pass"
   ]
  },
  {
   "cell_type": "code",
   "execution_count": 54,
   "id": "8da8c1c5",
   "metadata": {},
   "outputs": [],
   "source": [
    "# print(coin())\n",
    "# flip_10_times_2()\n",
    "# flip_n_times(20)\n",
    "# n_heads_streak(10)"
   ]
  },
  {
   "cell_type": "code",
   "execution_count": 56,
   "id": "2aecfa94",
   "metadata": {},
   "outputs": [
    {
     "name": "stdout",
     "output_type": "stream",
     "text": [
      "Variable           Type        Data/Info\n",
      "----------------------------------------\n",
      "coin               function    <function coin at 0x1049188b0>\n",
      "first_name         str         junjie\n",
      "flip_10_times      function    <function flip_10_times at 0x10492d670>\n",
      "flip_10_times_2    function    <function flip_10_times_2 at 0x10492dd30>\n",
      "flip_n_times       function    <function flip_n_times at 0x10492dca0>\n",
      "lastname           str         lei\n",
      "n_head_tail        function    <function n_head_tail at 0x10476eaf0>\n",
      "n_heads_streak     function    <function n_heads_streak at 0x10492d280>\n",
      "random             module      <module 'random' from '/u<...>lib/python3.9/random.py'>\n",
      "ten_heads_streak   function    <function ten_heads_streak at 0x10492d940>\n"
     ]
    }
   ],
   "source": [
    "%whos"
   ]
  },
  {
   "cell_type": "code",
   "execution_count": 55,
   "id": "7f3f7208",
   "metadata": {},
   "outputs": [
    {
     "name": "stdout",
     "output_type": "stream",
     "text": [
      "lei\tjunjie\n"
     ]
    }
   ],
   "source": [
    "lastname = \"lei\"\n",
    "first_name = \"junjie\"\n",
    "\n",
    "# \"%d\" \"%s\" \"%f\" ... -- palceholder formatting\n",
    "print(\"{}\\t{}\".format(lastname, first_name))"
   ]
  },
  {
   "cell_type": "code",
   "execution_count": 43,
   "id": "5c3c44c8",
   "metadata": {},
   "outputs": [
    {
     "data": {
      "text/plain": [
       "1"
      ]
     },
     "execution_count": 43,
     "metadata": {},
     "output_type": "execute_result"
    }
   ],
   "source": [
    "[\"head\", \"tail\"].count(\"head\")"
   ]
  },
  {
   "cell_type": "code",
   "execution_count": 52,
   "id": "716346f4",
   "metadata": {},
   "outputs": [
    {
     "name": "stdout",
     "output_type": "stream",
     "text": [
      "junjie\tlei\n"
     ]
    }
   ],
   "source": [
    "print(\"junjie\" + \"\\t\" + \"lei\")"
   ]
  },
  {
   "cell_type": "code",
   "execution_count": null,
   "id": "5ceb0819",
   "metadata": {},
   "outputs": [],
   "source": []
  },
  {
   "cell_type": "code",
   "execution_count": null,
   "id": "17b602cd",
   "metadata": {},
   "outputs": [],
   "source": []
  },
  {
   "cell_type": "code",
   "execution_count": null,
   "id": "d4d58983",
   "metadata": {},
   "outputs": [],
   "source": []
  },
  {
   "cell_type": "code",
   "execution_count": null,
   "id": "1bd6677d",
   "metadata": {},
   "outputs": [],
   "source": []
  },
  {
   "cell_type": "code",
   "execution_count": null,
   "id": "628e15b3",
   "metadata": {},
   "outputs": [],
   "source": []
  },
  {
   "cell_type": "code",
   "execution_count": null,
   "id": "a4fcf1c2",
   "metadata": {},
   "outputs": [],
   "source": []
  },
  {
   "cell_type": "code",
   "execution_count": null,
   "id": "12814565",
   "metadata": {},
   "outputs": [],
   "source": [
    "[1,2,3,4]\n",
    "mean\n",
    "meidan\n",
    "mode\n"
   ]
  }
 ],
 "metadata": {
  "kernelspec": {
   "display_name": "Python 3 (ipykernel)",
   "language": "python",
   "name": "python3"
  },
  "language_info": {
   "codemirror_mode": {
    "name": "ipython",
    "version": 3
   },
   "file_extension": ".py",
   "mimetype": "text/x-python",
   "name": "python",
   "nbconvert_exporter": "python",
   "pygments_lexer": "ipython3",
   "version": "3.9.2"
  }
 },
 "nbformat": 4,
 "nbformat_minor": 5
}
