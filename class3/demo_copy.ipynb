{
 "cells": [
  {
   "cell_type": "markdown",
   "id": "8e7cbd30",
   "metadata": {},
   "source": [
    "# The Original Dataset"
   ]
  },
  {
   "cell_type": "code",
   "execution_count": 3,
   "id": "9f66bb49",
   "metadata": {},
   "outputs": [],
   "source": [
    "# Each data point represents one day in the month of August 2000. \n",
    "# e.g. the first data point was the avg daily temperature on August 1, 2000\n",
    "paris = [75.9, 67.2, 64.2, 63.3, 65.5, 67.0, 70.3, 68.1, 70.9, 68.0, 69.9, 74.0, 77.1, 74.1, 70.0, 69.8, 69.9, 67.9, 65.9, 63.3, 62.4, 63.8, 68.6, 73.3, 75.8, 70.7, 63.5, 64.6, 66.4, 66.4, 65.3]\n",
    "helsinki = [60.2, 62.1, 61.7, 61.7, 60.2, 62.7, 61.9, 58.6, 56.8, 59.8, 59.9, 61.8, 63.0, 63.9, 60.1, 64.5, 59.5, 57.4, 60.3, 60.2, 60.4, 58.9, 54.6, 54.3, 57.2, 58.9, 58.5, 59.0, 59.2, 61.1, 60.9]\n",
    "copenhagen = [61.2, 62.4, 60.6, 60.6, 59.0, 61.5, 57.6, 57.5, 58.8, 57.5, 60.5, 59.5, 58.6, 61.7, 65.5, 60.6, 60.2, 60.5, 60.3, 60.9, 57.4, 56.2, 56.3, 55.9, 57.9, 58.4, 62.0, 61.0, 61.8, 57.6, 55.5]\n",
    "rome = [73.9, 73.5, 73.6, 75.2, 71.8, 70.0, 71.4, 73.7, 73.3, 74.5, 74.9, 74.4, 79.5, 76.0, 76.8, 78.3, 77.1, 77.4, 76.4, 77.2, 77.9, 78.7, 79.6, 79.9, 77.6, 78.4, 77.8, 77.4, 76.5, 73.8, 74.9]\n",
    "madrid = [83.8, 83.8, 73.6, 67.9, 68.0, 70.5, 73.2, 75.0, 78.7, 81.2, 76.7, 74.8, 78.7, 78.7, 84.6, 83.9, 83.6, 82.3, 79.3, 75.7, 73.6, 68.6, 68.8, 73.9, 76.0, 71.9, 71.8, 73.8, 77.3, 75.9, 71.7]\n",
    "stockholm = [65.9, 62.7, 60.5, 63.9, 63.9, 63.9, 61.0, 58.1, 62.5, 63.1, 64.1, 63.6, 61.3, 64.4, 65.3, 63.6, 62.6, 62.1, 63.3, 60.3, 61.1, 59.4, 57.5, 54.7, 57.0, 61.4, 62.1, 62.4, 62.7, 61.0, 56.5]\n",
    "london = [66.6, 63.1, 61.3, 63.9, 65.1, 68.7, 68.0, 66.8, 65.4, 67.8, 67.6, 68.8, 65.9, 67.6, 65.6, 65.6, 63.0, 62.2, 64.9, 63.4, 60.8, 62.4, 64.8, 67.8, 68.3, 65.7, 61.5, 60.4, 61.2, 62.3, 61.1]"
   ]
  },
  {
   "cell_type": "code",
   "execution_count": 4,
   "id": "cfe931ff",
   "metadata": {},
   "outputs": [],
   "source": [
    "import pandas as pd"
   ]
  },
  {
   "cell_type": "code",
   "execution_count": 5,
   "id": "13b933e7",
   "metadata": {},
   "outputs": [
    {
     "data": {
      "text/html": [
       "<div>\n",
       "<style scoped>\n",
       "    .dataframe tbody tr th:only-of-type {\n",
       "        vertical-align: middle;\n",
       "    }\n",
       "\n",
       "    .dataframe tbody tr th {\n",
       "        vertical-align: top;\n",
       "    }\n",
       "\n",
       "    .dataframe thead th {\n",
       "        text-align: right;\n",
       "    }\n",
       "</style>\n",
       "<table border=\"1\" class=\"dataframe\">\n",
       "  <thead>\n",
       "    <tr style=\"text-align: right;\">\n",
       "      <th></th>\n",
       "      <th>Paris</th>\n",
       "      <th>Helsinki</th>\n",
       "      <th>Copenhagen</th>\n",
       "      <th>Rome</th>\n",
       "      <th>Madrid</th>\n",
       "      <th>Stockholm</th>\n",
       "      <th>London</th>\n",
       "    </tr>\n",
       "  </thead>\n",
       "  <tbody>\n",
       "    <tr>\n",
       "      <th>0</th>\n",
       "      <td>75.9</td>\n",
       "      <td>60.2</td>\n",
       "      <td>61.2</td>\n",
       "      <td>73.9</td>\n",
       "      <td>83.8</td>\n",
       "      <td>65.9</td>\n",
       "      <td>66.6</td>\n",
       "    </tr>\n",
       "    <tr>\n",
       "      <th>1</th>\n",
       "      <td>67.2</td>\n",
       "      <td>62.1</td>\n",
       "      <td>62.4</td>\n",
       "      <td>73.5</td>\n",
       "      <td>83.8</td>\n",
       "      <td>62.7</td>\n",
       "      <td>63.1</td>\n",
       "    </tr>\n",
       "    <tr>\n",
       "      <th>2</th>\n",
       "      <td>64.2</td>\n",
       "      <td>61.7</td>\n",
       "      <td>60.6</td>\n",
       "      <td>73.6</td>\n",
       "      <td>73.6</td>\n",
       "      <td>60.5</td>\n",
       "      <td>61.3</td>\n",
       "    </tr>\n",
       "    <tr>\n",
       "      <th>3</th>\n",
       "      <td>63.3</td>\n",
       "      <td>61.7</td>\n",
       "      <td>60.6</td>\n",
       "      <td>75.2</td>\n",
       "      <td>67.9</td>\n",
       "      <td>63.9</td>\n",
       "      <td>63.9</td>\n",
       "    </tr>\n",
       "    <tr>\n",
       "      <th>4</th>\n",
       "      <td>65.5</td>\n",
       "      <td>60.2</td>\n",
       "      <td>59.0</td>\n",
       "      <td>71.8</td>\n",
       "      <td>68.0</td>\n",
       "      <td>63.9</td>\n",
       "      <td>65.1</td>\n",
       "    </tr>\n",
       "  </tbody>\n",
       "</table>\n",
       "</div>"
      ],
      "text/plain": [
       "   Paris  Helsinki  Copenhagen  Rome  Madrid  Stockholm  London\n",
       "0   75.9      60.2        61.2  73.9    83.8       65.9    66.6\n",
       "1   67.2      62.1        62.4  73.5    83.8       62.7    63.1\n",
       "2   64.2      61.7        60.6  73.6    73.6       60.5    61.3\n",
       "3   63.3      61.7        60.6  75.2    67.9       63.9    63.9\n",
       "4   65.5      60.2        59.0  71.8    68.0       63.9    65.1"
      ]
     },
     "execution_count": 5,
     "metadata": {},
     "output_type": "execute_result"
    }
   ],
   "source": [
    "df = pd.DataFrame(\n",
    "    {\n",
    "        \"Paris\" : paris, \n",
    "        \"Helsinki\" : helsinki,\n",
    "        \"Copenhagen\" : copenhagen,\n",
    "        \"Rome\" : rome, \n",
    "        \"Madrid\" : madrid, \n",
    "        \"Stockholm\":stockholm,\n",
    "        \"London\" : london\n",
    "    }\n",
    ")\n",
    "df.head(5)"
   ]
  },
  {
   "cell_type": "code",
   "execution_count": 6,
   "id": "06087af3",
   "metadata": {
    "scrolled": true
   },
   "outputs": [
    {
     "data": {
      "text/html": [
       "<div>\n",
       "<style scoped>\n",
       "    .dataframe tbody tr th:only-of-type {\n",
       "        vertical-align: middle;\n",
       "    }\n",
       "\n",
       "    .dataframe tbody tr th {\n",
       "        vertical-align: top;\n",
       "    }\n",
       "\n",
       "    .dataframe thead th {\n",
       "        text-align: right;\n",
       "    }\n",
       "</style>\n",
       "<table border=\"1\" class=\"dataframe\">\n",
       "  <thead>\n",
       "    <tr style=\"text-align: right;\">\n",
       "      <th></th>\n",
       "      <th>Paris</th>\n",
       "      <th>Helsinki</th>\n",
       "      <th>Copenhagen</th>\n",
       "      <th>Rome</th>\n",
       "      <th>Madrid</th>\n",
       "      <th>Stockholm</th>\n",
       "      <th>London</th>\n",
       "    </tr>\n",
       "  </thead>\n",
       "  <tbody>\n",
       "    <tr>\n",
       "      <th>14</th>\n",
       "      <td>70.0</td>\n",
       "      <td>60.1</td>\n",
       "      <td>65.5</td>\n",
       "      <td>76.8</td>\n",
       "      <td>84.6</td>\n",
       "      <td>65.3</td>\n",
       "      <td>65.6</td>\n",
       "    </tr>\n",
       "    <tr>\n",
       "      <th>16</th>\n",
       "      <td>69.9</td>\n",
       "      <td>59.5</td>\n",
       "      <td>60.2</td>\n",
       "      <td>77.1</td>\n",
       "      <td>83.6</td>\n",
       "      <td>62.6</td>\n",
       "      <td>63.0</td>\n",
       "    </tr>\n",
       "    <tr>\n",
       "      <th>13</th>\n",
       "      <td>74.1</td>\n",
       "      <td>63.9</td>\n",
       "      <td>61.7</td>\n",
       "      <td>76.0</td>\n",
       "      <td>78.7</td>\n",
       "      <td>64.4</td>\n",
       "      <td>67.6</td>\n",
       "    </tr>\n",
       "    <tr>\n",
       "      <th>18</th>\n",
       "      <td>65.9</td>\n",
       "      <td>60.3</td>\n",
       "      <td>60.3</td>\n",
       "      <td>76.4</td>\n",
       "      <td>79.3</td>\n",
       "      <td>63.3</td>\n",
       "      <td>64.9</td>\n",
       "    </tr>\n",
       "    <tr>\n",
       "      <th>19</th>\n",
       "      <td>63.3</td>\n",
       "      <td>60.2</td>\n",
       "      <td>60.9</td>\n",
       "      <td>77.2</td>\n",
       "      <td>75.7</td>\n",
       "      <td>60.3</td>\n",
       "      <td>63.4</td>\n",
       "    </tr>\n",
       "    <tr>\n",
       "      <th>12</th>\n",
       "      <td>77.1</td>\n",
       "      <td>63.0</td>\n",
       "      <td>58.6</td>\n",
       "      <td>79.5</td>\n",
       "      <td>78.7</td>\n",
       "      <td>61.3</td>\n",
       "      <td>65.9</td>\n",
       "    </tr>\n",
       "    <tr>\n",
       "      <th>22</th>\n",
       "      <td>68.6</td>\n",
       "      <td>54.6</td>\n",
       "      <td>56.3</td>\n",
       "      <td>79.6</td>\n",
       "      <td>68.8</td>\n",
       "      <td>57.5</td>\n",
       "      <td>64.8</td>\n",
       "    </tr>\n",
       "    <tr>\n",
       "      <th>1</th>\n",
       "      <td>67.2</td>\n",
       "      <td>62.1</td>\n",
       "      <td>62.4</td>\n",
       "      <td>73.5</td>\n",
       "      <td>83.8</td>\n",
       "      <td>62.7</td>\n",
       "      <td>63.1</td>\n",
       "    </tr>\n",
       "    <tr>\n",
       "      <th>23</th>\n",
       "      <td>73.3</td>\n",
       "      <td>54.3</td>\n",
       "      <td>55.9</td>\n",
       "      <td>79.9</td>\n",
       "      <td>73.9</td>\n",
       "      <td>54.7</td>\n",
       "      <td>67.8</td>\n",
       "    </tr>\n",
       "    <tr>\n",
       "      <th>15</th>\n",
       "      <td>69.8</td>\n",
       "      <td>64.5</td>\n",
       "      <td>60.6</td>\n",
       "      <td>78.3</td>\n",
       "      <td>83.9</td>\n",
       "      <td>63.6</td>\n",
       "      <td>65.6</td>\n",
       "    </tr>\n",
       "  </tbody>\n",
       "</table>\n",
       "</div>"
      ],
      "text/plain": [
       "    Paris  Helsinki  Copenhagen  Rome  Madrid  Stockholm  London\n",
       "14   70.0      60.1        65.5  76.8    84.6       65.3    65.6\n",
       "16   69.9      59.5        60.2  77.1    83.6       62.6    63.0\n",
       "13   74.1      63.9        61.7  76.0    78.7       64.4    67.6\n",
       "18   65.9      60.3        60.3  76.4    79.3       63.3    64.9\n",
       "19   63.3      60.2        60.9  77.2    75.7       60.3    63.4\n",
       "12   77.1      63.0        58.6  79.5    78.7       61.3    65.9\n",
       "22   68.6      54.6        56.3  79.6    68.8       57.5    64.8\n",
       "1    67.2      62.1        62.4  73.5    83.8       62.7    63.1\n",
       "23   73.3      54.3        55.9  79.9    73.9       54.7    67.8\n",
       "15   69.8      64.5        60.6  78.3    83.9       63.6    65.6"
      ]
     },
     "execution_count": 6,
     "metadata": {},
     "output_type": "execute_result"
    }
   ],
   "source": [
    "df.sample(10)"
   ]
  },
  {
   "cell_type": "markdown",
   "id": "6ea67e12",
   "metadata": {},
   "source": [
    "####  Output an array with the daily average temperature of the 7 cities for the month. The resulting array should have 31 elements in it, one for each day, with each data point representing the mean of the 7 daily temperatures for that day."
   ]
  },
  {
   "cell_type": "code",
   "execution_count": 7,
   "id": "285c8064",
   "metadata": {},
   "outputs": [
    {
     "data": {
      "text/plain": [
       "[69.64285714285715,\n",
       " 67.82857142857144,\n",
       " 65.07142857142858,\n",
       " 65.21428571428571,\n",
       " 64.78571428571429,\n",
       " 66.32857142857142,\n",
       " 66.2,\n",
       " 65.4,\n",
       " 66.62857142857142,\n",
       " 67.41428571428573,\n",
       " 67.65714285714286,\n",
       " 68.12857142857145,\n",
       " 69.15714285714286,\n",
       " 69.48571428571428,\n",
       " 69.7,\n",
       " 69.47142857142858,\n",
       " 67.9857142857143,\n",
       " 67.11428571428573,\n",
       " 67.2,\n",
       " 65.85714285714286,\n",
       " 64.80000000000001,\n",
       " 63.999999999999986,\n",
       " 64.31428571428572,\n",
       " 65.68571428571428,\n",
       " 67.11428571428571,\n",
       " 66.48571428571428,\n",
       " 65.31428571428572,\n",
       " 65.5142857142857,\n",
       " 66.44285714285714,\n",
       " 65.44285714285714,\n",
       " 63.7]"
      ]
     },
     "execution_count": 7,
     "metadata": {},
     "output_type": "execute_result"
    }
   ],
   "source": [
    "df.T.describe().loc[\"mean\"].tolist()"
   ]
  },
  {
   "cell_type": "code",
   "execution_count": 8,
   "id": "1d6367d1",
   "metadata": {},
   "outputs": [
    {
     "name": "stdout",
     "output_type": "stream",
     "text": [
      "Paris\n",
      "14\n",
      "\n",
      "Helsinki\n",
      "10\n",
      "\n",
      "Copenhagen\n",
      "10\n",
      "\n",
      "Rome\n",
      "9\n",
      "\n",
      "Madrid\n",
      "16\n",
      "\n",
      "Stockholm\n",
      "11\n",
      "\n",
      "London\n",
      "8\n",
      "\n"
     ]
    }
   ],
   "source": [
    "# range\n",
    "for i in df.columns:\n",
    "    print(f\"%s\\n%d\\n\" %(i, (df[i].max() - df[i].min())))"
   ]
  },
  {
   "cell_type": "code",
   "execution_count": 9,
   "id": "f6ab86a7",
   "metadata": {},
   "outputs": [
    {
     "data": {
      "text/plain": [
       "84.6"
      ]
     },
     "execution_count": 9,
     "metadata": {},
     "output_type": "execute_result"
    }
   ],
   "source": [
    "df.max().max()"
   ]
  },
  {
   "cell_type": "code",
   "execution_count": 10,
   "id": "a8f79b2b",
   "metadata": {},
   "outputs": [
    {
     "data": {
      "text/plain": [
       "54.3"
      ]
     },
     "execution_count": 10,
     "metadata": {},
     "output_type": "execute_result"
    }
   ],
   "source": [
    "df.min().min()"
   ]
  },
  {
   "cell_type": "markdown",
   "id": "c7dfa3f0",
   "metadata": {},
   "source": [
    "# Delta & diff"
   ]
  },
  {
   "cell_type": "code",
   "execution_count": 11,
   "id": "cbe994a4",
   "metadata": {},
   "outputs": [],
   "source": [
    "paris = df.Paris.tolist()\n",
    "# paris"
   ]
  },
  {
   "cell_type": "code",
   "execution_count": 12,
   "id": "3c5326f7",
   "metadata": {},
   "outputs": [],
   "source": [
    "for i in range(0, len(paris),1):\n",
    "    delta = paris[i-1] - paris[i]\n",
    "#     print(delta)"
   ]
  },
  {
   "cell_type": "code",
   "execution_count": 13,
   "id": "2f01a1e0",
   "metadata": {},
   "outputs": [],
   "source": [
    "df[\"delta_Paris\"] = df.Paris.diff().fillna(df.Paris.iloc[0] - df.Paris.iloc[-1])"
   ]
  },
  {
   "cell_type": "code",
   "execution_count": 14,
   "id": "43530f1e",
   "metadata": {},
   "outputs": [],
   "source": [
    "from collections import Counter"
   ]
  },
  {
   "cell_type": "code",
   "execution_count": 15,
   "id": "ecaedfc1",
   "metadata": {},
   "outputs": [
    {
     "data": {
      "text/html": [
       "<div>\n",
       "<style scoped>\n",
       "    .dataframe tbody tr th:only-of-type {\n",
       "        vertical-align: middle;\n",
       "    }\n",
       "\n",
       "    .dataframe tbody tr th {\n",
       "        vertical-align: top;\n",
       "    }\n",
       "\n",
       "    .dataframe thead th {\n",
       "        text-align: right;\n",
       "    }\n",
       "</style>\n",
       "<table border=\"1\" class=\"dataframe\">\n",
       "  <thead>\n",
       "    <tr style=\"text-align: right;\">\n",
       "      <th></th>\n",
       "      <th>10.6</th>\n",
       "      <th>-8.7</th>\n",
       "      <th>-3.0</th>\n",
       "      <th>-0.9</th>\n",
       "      <th>2.2</th>\n",
       "      <th>1.5</th>\n",
       "      <th>3.3</th>\n",
       "      <th>-2.2</th>\n",
       "      <th>2.8</th>\n",
       "      <th>-2.9</th>\n",
       "      <th>...</th>\n",
       "      <th>1.4</th>\n",
       "      <th>4.8</th>\n",
       "      <th>4.7</th>\n",
       "      <th>2.5</th>\n",
       "      <th>-5.1</th>\n",
       "      <th>-7.2</th>\n",
       "      <th>1.1</th>\n",
       "      <th>1.8</th>\n",
       "      <th>0.0</th>\n",
       "      <th>-1.1</th>\n",
       "    </tr>\n",
       "  </thead>\n",
       "  <tbody>\n",
       "    <tr>\n",
       "      <th>freq</th>\n",
       "      <td>1</td>\n",
       "      <td>1</td>\n",
       "      <td>2</td>\n",
       "      <td>1</td>\n",
       "      <td>1</td>\n",
       "      <td>1</td>\n",
       "      <td>1</td>\n",
       "      <td>1</td>\n",
       "      <td>1</td>\n",
       "      <td>1</td>\n",
       "      <td>...</td>\n",
       "      <td>1</td>\n",
       "      <td>1</td>\n",
       "      <td>1</td>\n",
       "      <td>1</td>\n",
       "      <td>1</td>\n",
       "      <td>1</td>\n",
       "      <td>1</td>\n",
       "      <td>1</td>\n",
       "      <td>1</td>\n",
       "      <td>1</td>\n",
       "    </tr>\n",
       "  </tbody>\n",
       "</table>\n",
       "<p>1 rows × 29 columns</p>\n",
       "</div>"
      ],
      "text/plain": [
       "       10.6  -8.7   -3.0   -0.9    2.2    1.5    3.3   -2.2    2.8   -2.9   \\\n",
       "freq      1      1      2      1      1      1      1      1      1      1   \n",
       "\n",
       "      ...   1.4    4.8    4.7    2.5   -5.1   -7.2    1.1    1.8    0.0   \\\n",
       "freq  ...      1      1      1      1      1      1      1      1      1   \n",
       "\n",
       "      -1.1   \n",
       "freq      1  \n",
       "\n",
       "[1 rows x 29 columns]"
      ]
     },
     "execution_count": 15,
     "metadata": {},
     "output_type": "execute_result"
    }
   ],
   "source": [
    "pd.DataFrame(Counter(df.delta_Paris), index=['freq'])"
   ]
  },
  {
   "cell_type": "code",
   "execution_count": 16,
   "id": "20ec4633",
   "metadata": {},
   "outputs": [],
   "source": [
    "import matplotlib.pyplot as plt\n",
    "# import matplotlib.image as mpimg\n",
    "# ! pip3 install matplotlib\n"
   ]
  },
  {
   "cell_type": "code",
   "execution_count": 17,
   "id": "0d2b48af",
   "metadata": {},
   "outputs": [
    {
     "data": {
      "text/plain": [
       "<AxesSubplot:>"
      ]
     },
     "execution_count": 17,
     "metadata": {},
     "output_type": "execute_result"
    },
    {
     "data": {
      "image/png": "[encoded data removed]",
      "text/plain": [
       "<Figure size 432x288 with 1 Axes>"
      ]
     },
     "metadata": {
      "needs_background": "light"
     },
     "output_type": "display_data"
    }
   ],
   "source": [
    "pd.DataFrame(df.delta_Paris.to_list()).plot.bar() "
   ]
  },
  {
   "cell_type": "code",
   "execution_count": null,
   "id": "ac042ad6",
   "metadata": {},
   "outputs": [],
   "source": []
  },
  {
   "cell_type": "code",
   "execution_count": null,
   "id": "b4d890a8",
   "metadata": {},
   "outputs": [],
   "source": []
  },
  {
   "cell_type": "markdown",
   "id": "bdbe6ab5",
   "metadata": {},
   "source": [
    "#  Coin_flip Solution"
   ]
  },
  {
   "cell_type": "code",
   "execution_count": 18,
   "id": "8ad42963",
   "metadata": {},
   "outputs": [],
   "source": [
    "import random"
   ]
  },
  {
   "cell_type": "code",
   "execution_count": 19,
   "id": "6ec54ac2",
   "metadata": {},
   "outputs": [],
   "source": [
    "def coin():\n",
    "    coin_value = random.randint(1,2)\n",
    "    if coin_value == 1:\n",
    "        return \"Head\"\n",
    "    else:\n",
    "        return \"Tail\"\n",
    "    \n",
    "def flip_10_times():\n",
    "    for i in range(0,10,1):\n",
    "        print(coin())\n",
    "        \n",
    "def flip_n_times(n):\n",
    "    my_lst = []\n",
    "    for i in range(0,n,1):\n",
    "        my_lst.append(coin())\n",
    "    return my_lst\n",
    "\n",
    "def value_counter(lst):\n",
    "    head = 0\n",
    "    tail = 0\n",
    "    for i in lst:\n",
    "        if i == \"Head\":\n",
    "            head += 1\n",
    "        else: \n",
    "            tail += 1\n",
    "    \n",
    "    print(\"HEADS {0}\\nTAILS {1}\".format(head/len(lst), tail/len(lst)))\n",
    "    return head, tail\n",
    "\n",
    "\n",
    "def ten_head_streak():\n",
    "    current_streak = 0\n",
    "    counter = 0\n",
    "    my_lst = []\n",
    "    \n",
    "    while current_streak < 10:\n",
    "        counter +=1\n",
    "        res = coin()\n",
    "        if res == \"Head\":\n",
    "            current_streak += 1\n",
    "        else:\n",
    "            current_streak = 0\n",
    "            \n",
    "        my_lst.append(res)\n",
    "    print(\"You have flipped %d times\" %counter)\n",
    "    value_counter(my_lst)\n",
    "    return counter\n",
    "\n",
    "def streak(n):\n",
    "    tail_streak = 0\n",
    "    head_streak = 0\n",
    "    counter = 0\n",
    "    my_list = []\n",
    "    \n",
    "    while tail_streak < n and tail_streak < n:\n",
    "        res  = coin()\n",
    "        counter += 1\n",
    "        if res == \"Head\":\n",
    "            head_streak += 1\n",
    "            tail_streak = 0\n",
    "        else:\n",
    "            tail_streak +=1\n",
    "            head_streak = 0\n",
    "#         print(res)\n",
    "        my_list.append(res)\n",
    "    print(\"You have flipped %d times\" %counter)\n",
    "    value_counter(my_list)\n",
    "    return counter\n",
    "        \n",
    "    "
   ]
  },
  {
   "cell_type": "code",
   "execution_count": 20,
   "id": "fcd4c667",
   "metadata": {
    "scrolled": true
   },
   "outputs": [
    {
     "name": "stdout",
     "output_type": "stream",
     "text": [
      "HEADS 0.35\n",
      "TAILS 0.65\n",
      "(7, 13)\n",
      "----------\n",
      "You have flipped 1958 times\n",
      "HEADS 0.48978549540347294\n",
      "TAILS 0.5102145045965271\n",
      "----------\n",
      "You have flipped 660 times\n",
      "HEADS 0.48333333333333334\n",
      "TAILS 0.5166666666666667\n"
     ]
    }
   ],
   "source": [
    "if __name__ == \"__main__\":\n",
    "    res = flip_n_times(20)\n",
    "    print(value_counter(res))\n",
    "#     print(coin())\n",
    "#     flip_10_times()\n",
    "    print(\"-\"*10)\n",
    "    ten_head_streak()\n",
    "    \n",
    "    print(\"-\"*10)\n",
    "    streak(10)\n",
    "    \n"
   ]
  },
  {
   "cell_type": "code",
   "execution_count": null,
   "id": "0c0c490c",
   "metadata": {},
   "outputs": [],
   "source": []
  },
  {
   "cell_type": "markdown",
   "id": "713f5887",
   "metadata": {},
   "source": [
    "# Given an Input string, find the mean, median, and mode;\n"
   ]
  },
  {
   "cell_type": "code",
   "execution_count": 21,
   "id": "f5727708",
   "metadata": {},
   "outputs": [],
   "source": [
    "std_in = '123345'\n",
    "# std_out = \"mean of  [1,2,3,4,5]\"\n",
    "#         = \"median of \""
   ]
  },
  {
   "cell_type": "code",
   "execution_count": 22,
   "id": "2a94c65f",
   "metadata": {},
   "outputs": [],
   "source": [
    "std_in_lst = list(std_in)\n",
    "std_in_lst = [int(i) for i in std_in_lst]"
   ]
  },
  {
   "cell_type": "code",
   "execution_count": 23,
   "id": "4a143274",
   "metadata": {},
   "outputs": [
    {
     "name": "stdout",
     "output_type": "stream",
     "text": [
      "[1, 2, 3, 3, 4, 5]\n"
     ]
    }
   ],
   "source": [
    "print(std_in_lst)"
   ]
  },
  {
   "cell_type": "code",
   "execution_count": 24,
   "id": "c78aabf9",
   "metadata": {},
   "outputs": [],
   "source": [
    "df = pd.DataFrame(std_in_lst)"
   ]
  },
  {
   "cell_type": "code",
   "execution_count": 25,
   "id": "4e5cdb3a",
   "metadata": {},
   "outputs": [],
   "source": [
    "df.columns = [\"\"]"
   ]
  },
  {
   "cell_type": "code",
   "execution_count": null,
   "id": "3ba01cc6",
   "metadata": {},
   "outputs": [],
   "source": []
  }
 ],
 "metadata": {
  "kernelspec": {
   "display_name": "Python 3 (ipykernel)",
   "language": "python",
   "name": "python3"
  },
  "language_info": {
   "codemirror_mode": {
    "name": "ipython",
    "version": 3
   },
   "file_extension": ".py",
   "mimetype": "text/x-python",
   "name": "python",
   "nbconvert_exporter": "python",
   "pygments_lexer": "ipython3",
   "version": "3.9.2"
  }
 },
 "nbformat": 4,
 "nbformat_minor": 5
}
