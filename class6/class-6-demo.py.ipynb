{
 "cells": [
  {
   "cell_type": "markdown",
   "id": "5659f45e",
   "metadata": {
    "slideshow": {
     "slide_type": "slide"
    }
   },
   "source": [
    "<h1 style=\"color:red; text-align:center\">Webscraping</h1>"
   ]
  },
  {
   "cell_type": "markdown",
   "id": "eb3b5e87",
   "metadata": {},
   "source": [
    "[The Notebook](https://colab.research.google.com/drive/1TNNpSnDaVnCvN9vyw3_RsFqN9NOu2xjy?authuser=3#scrollTo=MSTFHCbdUZeO) \n",
    "\n",
    "Hosted on Colab"
   ]
  },
  {
   "cell_type": "markdown",
   "id": "fe569fbd",
   "metadata": {
    "slideshow": {
     "slide_type": "slide"
    }
   },
   "source": [
    "# Coding challenge"
   ]
  },
  {
   "cell_type": "markdown",
   "id": "a813f3e7",
   "metadata": {},
   "source": [
    "## Leet-code\n",
    "<h1 style=\"color:blue; text-align:center\">Two Sums</h1>\n",
    "\n"
   ]
  },
  {
   "cell_type": "markdown",
   "id": "f6f78e95",
   "metadata": {},
   "source": [
    "Given an array of integers nums and an integer target, return indices of the two numbers such that they add up to target.\n",
    "\n",
    "You may assume that each input would have exactly one solution, and you may not use the same element twice.\n",
    "\n",
    "You can return the answer in any order."
   ]
  },
  {
   "cell_type": "markdown",
   "id": "a98c9171",
   "metadata": {
    "slideshow": {
     "slide_type": "slide"
    }
   },
   "source": [
    "\n",
    "Input: nums = [2,7,11,15], target = 9\n",
    "\n",
    "Output: [0,1]\n",
    "\n",
    "\n",
    "Output: Because nums[0] + nums[1] == 9, we return [0, 1]."
   ]
  },
  {
   "cell_type": "markdown",
   "id": "ca504185",
   "metadata": {
    "slideshow": {
     "slide_type": "subslide"
    }
   },
   "source": [
    "<h1 style=\"color:red;text-align:center\">Two Sums Solution</h1>\n"
   ]
  },
  {
   "cell_type": "code",
   "execution_count": 2,
   "id": "867e1f22",
   "metadata": {},
   "outputs": [],
   "source": [
    "class Solution:\n",
    "    def twoSum(self, nums, target):\n",
    "        \"\"\"\n",
    "        :type nums: List[int]\n",
    "        :type target: int\n",
    "        :rtype: List[int]\n",
    "        \"\"\"\n",
    "        h = {}\n",
    "        for i, num in enumerate(nums):\n",
    "            n = target - num\n",
    "            if n not in h:\n",
    "                h[num] = i\n",
    "            else:\n",
    "                return [h[n], i]"
   ]
  },
  {
   "cell_type": "code",
   "execution_count": 3,
   "id": "bafe044e",
   "metadata": {},
   "outputs": [
    {
     "name": "stdout",
     "output_type": "stream",
     "text": [
      "Variable   Type    Data/Info\n",
      "----------------------------\n",
      "Solution   type    <class '__main__.Solution'>\n"
     ]
    }
   ],
   "source": [
    "%whos"
   ]
  },
  {
   "cell_type": "code",
   "execution_count": 5,
   "id": "64416dc8",
   "metadata": {},
   "outputs": [
    {
     "data": {
      "text/plain": [
       "[0, 1]"
      ]
     },
     "execution_count": 5,
     "metadata": {},
     "output_type": "execute_result"
    }
   ],
   "source": [
    "my_solution = Solution()\n",
    "my_solution.twoSum([1,2,3], 3)"
   ]
  },
  {
   "cell_type": "code",
   "execution_count": 6,
   "id": "d38ff990",
   "metadata": {},
   "outputs": [],
   "source": [
    "second_solution = Solution()"
   ]
  },
  {
   "cell_type": "code",
   "execution_count": 7,
   "id": "a52341cd",
   "metadata": {},
   "outputs": [
    {
     "name": "stdout",
     "output_type": "stream",
     "text": [
      "Variable          Type        Data/Info\n",
      "---------------------------------------\n",
      "Solution          type        <class '__main__.Solution'>\n",
      "my_solution       Solution    <__main__.Solution object at 0x1065a8190>\n",
      "second_solution   Solution    <__main__.Solution object at 0x106121a90>\n"
     ]
    }
   ],
   "source": [
    "%whos"
   ]
  },
  {
   "cell_type": "markdown",
   "id": "dd08cf75",
   "metadata": {
    "slideshow": {
     "slide_type": "slide"
    }
   },
   "source": [
    "<h1 style=\"color:blue; text-align:center\">Factorial</h1>"
   ]
  },
  {
   "cell_type": "markdown",
   "id": "07673148",
   "metadata": {},
   "source": [
    "In mathematics, the factorial of a non-negative integer n, denoted by n!, is the product of all positive integers less than or equal to n. For example: 5! = 5 * 4 * 3 * 2 * 1 = 120. By convention the value of 0! is 1.\n",
    "\n",
    "Write a function to calculate factorial for a given input. If input is below 0 or above 12 "
   ]
  },
  {
   "cell_type": "markdown",
   "id": "41d73710",
   "metadata": {},
   "source": [
    "5! = 5 * 4 * 3 * 2 * 1 = 120"
   ]
  },
  {
   "cell_type": "markdown",
   "id": "793b5c39",
   "metadata": {
    "slideshow": {
     "slide_type": "subslide"
    }
   },
   "source": [
    "<h1 style=\"color:red; text-align:center\">Factorial Solution</h1>"
   ]
  },
  {
   "cell_type": "code",
   "execution_count": 5,
   "id": "4e9e8547",
   "metadata": {
    "slideshow": {
     "slide_type": "-"
    }
   },
   "outputs": [],
   "source": [
    "def factorial(n):\n",
    "    if n < 0 or n > 12:\n",
    "        raise ValueError\n",
    "    return 1 if n <= 1 else n*factorial(n-1)"
   ]
  },
  {
   "cell_type": "markdown",
   "id": "520ff6a5",
   "metadata": {},
   "source": [
    "## Exception Handling\n",
    "## ask for permission than forgiveness;\n"
   ]
  },
  {
   "cell_type": "markdown",
   "id": "aa38abc2",
   "metadata": {
    "slideshow": {
     "slide_type": "slide"
    }
   },
   "source": [
    "<h1 style=\"color:blue; text-align:center\">Pangram</h1>"
   ]
  },
  {
   "cell_type": "markdown",
   "id": "326d01da",
   "metadata": {
    "slideshow": {
     "slide_type": "-"
    }
   },
   "source": [
    "A pangram is a sentence that contains every single letter of the alphabet at least once. For example, the sentence \"The quick brown fox jumps over the lazy dog\" is a pangram, because it uses the letters A-Z at least once (case is irrelevant)."
   ]
  },
  {
   "cell_type": "markdown",
   "id": "adb614ac",
   "metadata": {
    "slideshow": {
     "slide_type": "subslide"
    }
   },
   "source": [
    "<h1 style=\"color:red; text-align:center\">Pangram</h1>"
   ]
  },
  {
   "cell_type": "code",
   "execution_count": 14,
   "id": "625b0eb8",
   "metadata": {},
   "outputs": [],
   "source": [
    "import string\n",
    "\n",
    "def is_pangram(s):\n",
    "    s = s.lower()\n",
    "    for char in 'abcdefghijklmnopqrstuvwxyz':\n",
    "        if char not in s:\n",
    "            return False\n",
    "    return True"
   ]
  },
  {
   "cell_type": "code",
   "execution_count": 15,
   "id": "c3721181",
   "metadata": {},
   "outputs": [],
   "source": [
    "def is_pangram(input_string):\n",
    "    \"\"\"Returns False if the input string is not a pangram else returns True\"\"\"\n",
    "    return False if [char for char in string.ascii_lowercase if not char in input_string.lower()] else True"
   ]
  },
  {
   "cell_type": "code",
   "execution_count": 16,
   "id": "6fba3fe2",
   "metadata": {},
   "outputs": [
    {
     "name": "stdout",
     "output_type": "stream",
     "text": [
      "abcdefghijklmnopqrstuvwxyz\n"
     ]
    }
   ],
   "source": [
    "print(string.ascii_lowercase)"
   ]
  },
  {
   "cell_type": "code",
   "execution_count": null,
   "id": "96620d09",
   "metadata": {},
   "outputs": [],
   "source": []
  }
 ],
 "metadata": {
  "celltoolbar": "Slideshow",
  "kernelspec": {
   "display_name": "Python 3 (ipykernel)",
   "language": "python",
   "name": "python3"
  },
  "language_info": {
   "codemirror_mode": {
    "name": "ipython",
    "version": 3
   },
   "file_extension": ".py",
   "mimetype": "text/x-python",
   "name": "python",
   "nbconvert_exporter": "python",
   "pygments_lexer": "ipython3",
   "version": "3.9.2"
  }
 },
 "nbformat": 4,
 "nbformat_minor": 5
}
