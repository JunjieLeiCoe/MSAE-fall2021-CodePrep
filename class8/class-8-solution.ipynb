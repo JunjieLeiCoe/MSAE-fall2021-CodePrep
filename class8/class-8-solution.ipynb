{
 "cells": [
  {
   "cell_type": "code",
   "execution_count": 3,
   "id": "1d90fd07",
   "metadata": {},
   "outputs": [
    {
     "data": {
      "text/plain": [
       "{2, 3, 4}"
      ]
     },
     "execution_count": 3,
     "metadata": {},
     "output_type": "execute_result"
    }
   ],
   "source": [
    "inp = {1:2, 2:3, 3:4, 4:2, 5:2}\n",
    "set(inp.values())\n"
   ]
  },
  {
   "cell_type": "code",
   "execution_count": 4,
   "id": "0785fff1",
   "metadata": {},
   "outputs": [
    {
     "data": {
      "text/plain": [
       "[2, '14']"
      ]
     },
     "execution_count": 4,
     "metadata": {},
     "output_type": "execute_result"
    }
   ],
   "source": [
    "inp = {'Econ': '611', 1:2, 14:15, 6:'14'}\n",
    "[v for k, v in inp.items() if isinstance(k, int) and k < 10]"
   ]
  },
  {
   "cell_type": "code",
   "execution_count": 5,
   "id": "f5b17aef",
   "metadata": {},
   "outputs": [
    {
     "name": "stdout",
     "output_type": "stream",
     "text": [
      "to: 2\n"
     ]
    }
   ],
   "source": [
    "inp = \"I went to school to study.\"\n",
    "counts = {}\n",
    "for word in inp.split():\n",
    "    if word in counts.keys():\n",
    "        counts[word] += 1\n",
    "    else:\n",
    "        counts[word] = 1\n",
    "max_word = max(counts, key=counts.get)\n",
    "print(f\"{max_word}: {counts[max_word]}\")"
   ]
  },
  {
   "cell_type": "code",
   "execution_count": 6,
   "id": "de131bb0",
   "metadata": {},
   "outputs": [
    {
     "name": "stdout",
     "output_type": "stream",
     "text": [
      "[1, 1, 2, 3, 5, 6, 14]\n"
     ]
    }
   ],
   "source": [
    "\n",
    "inp1 = [1, 3, 6]\n",
    "inp2 = [1, 2, 5, 14]\n",
    "\n",
    "idx1 = 0\n",
    "idx2 = 0\n",
    "out = []\n",
    "while idx1 < len(inp1) and idx2 < len(inp2):\n",
    "    if inp1[idx1] < inp2[idx2]:\n",
    "        out.append(inp1[idx1])\n",
    "        idx1 += 1\n",
    "    else:\n",
    "        out.append(inp2[idx2])\n",
    "        idx2 += 1\n",
    "out = out + inp1[idx1:] + inp2[idx2:]\n",
    "print(out)"
   ]
  },
  {
   "cell_type": "code",
   "execution_count": null,
   "id": "19bc1491",
   "metadata": {},
   "outputs": [],
   "source": []
  }
 ],
 "metadata": {
  "kernelspec": {
   "display_name": "Python 3 (ipykernel)",
   "language": "python",
   "name": "python3"
  },
  "language_info": {
   "codemirror_mode": {
    "name": "ipython",
    "version": 3
   },
   "file_extension": ".py",
   "mimetype": "text/x-python",
   "name": "python",
   "nbconvert_exporter": "python",
   "pygments_lexer": "ipython3",
   "version": "3.9.2"
  }
 },
 "nbformat": 4,
 "nbformat_minor": 5
}
