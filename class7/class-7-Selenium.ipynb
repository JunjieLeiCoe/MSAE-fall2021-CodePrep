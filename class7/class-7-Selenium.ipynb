{
 "cells": [
  {
   "cell_type": "code",
   "execution_count": 8,
   "id": "664f93a7",
   "metadata": {},
   "outputs": [],
   "source": [
    "import os"
   ]
  },
  {
   "cell_type": "code",
   "execution_count": 9,
   "id": "464f72c3",
   "metadata": {},
   "outputs": [
    {
     "data": {
      "text/plain": [
       "'/Users/leijunjie/Downloads/MSAE-fall2020-CodePrep/class7'"
      ]
     },
     "execution_count": 9,
     "metadata": {},
     "output_type": "execute_result"
    }
   ],
   "source": [
    "os.getcwd()"
   ]
  },
  {
   "cell_type": "code",
   "execution_count": 10,
   "id": "c1d16cce",
   "metadata": {},
   "outputs": [],
   "source": [
    "from selenium import webdriver"
   ]
  },
  {
   "cell_type": "code",
   "execution_count": 12,
   "id": "6c82ab0f",
   "metadata": {},
   "outputs": [
    {
     "name": "stderr",
     "output_type": "stream",
     "text": [
      "/var/folders/ys/98s0q77d0bl4mpqsp4lf7c740000gn/T/ipykernel_3361/2163997480.py:1: DeprecationWarning: executable_path has been deprecated, please pass in a Service object\n",
      "  driver = webdriver.Chrome('/Users/leijunjie/Downloads/chromedriver')\n"
     ]
    }
   ],
   "source": [
    "driver = webdriver.Chrome('/Users/leijunjie/Downloads/chromedriver')"
   ]
  },
  {
   "cell_type": "code",
   "execution_count": 13,
   "id": "42358a9e",
   "metadata": {},
   "outputs": [],
   "source": [
    "url = 'https://www.youtube.com/channel/UCuDWqzSSHgHkD0zBwrIXSNQ/videos'\n",
    "driver.get(url)"
   ]
  },
  {
   "cell_type": "code",
   "execution_count": 14,
   "id": "dc46aefe",
   "metadata": {},
   "outputs": [
    {
     "name": "stderr",
     "output_type": "stream",
     "text": [
      "/var/folders/ys/98s0q77d0bl4mpqsp4lf7c740000gn/T/ipykernel_3361/1992392603.py:1: DeprecationWarning: find_elements_by_* commands are deprecated. Please use find_elements() instead\n",
      "  videos=driver.find_elements_by_class_name('style-scope ytd-grid-video-renderer')\n"
     ]
    }
   ],
   "source": [
    "videos=driver.find_elements_by_class_name('style-scope ytd-grid-video-renderer')"
   ]
  },
  {
   "cell_type": "code",
   "execution_count": 15,
   "id": "f1367bb7",
   "metadata": {
    "scrolled": false
   },
   "outputs": [
    {
     "name": "stderr",
     "output_type": "stream",
     "text": [
      "/usr/local/lib/python3.9/site-packages/selenium/webdriver/remote/webelement.py:392: UserWarning: find_element_by_* commands are deprecated. Please use find_element() instead\n",
      "  warnings.warn(\"find_element_by_* commands are deprecated. Please use find_element() instead\")\n"
     ]
    }
   ],
   "source": [
    "video_list = []\n",
    "for video in videos:\n",
    "        title = video.find_element_by_xpath('.//*[@id=\"video-title\"]').text\n",
    "        views = video.find_element_by_xpath('.//*[@id=\"metadata-line\"]/span[1]').text\n",
    "        when = video.find_element_by_xpath('.//*[@id=\"metadata-line\"]/span[2]').text \n",
    "        video_item = {\n",
    "            'title':title, \n",
    "            'views': views, \n",
    "            'posted': when\n",
    "        }\n",
    "        video_list.append(video_item)\n",
    "        "
   ]
  },
  {
   "cell_type": "code",
   "execution_count": 20,
   "id": "5646fae9",
   "metadata": {
    "scrolled": false
   },
   "outputs": [],
   "source": [
    "import pandas as pd\n",
    "df =pd.DataFrame(video_list)"
   ]
  },
  {
   "cell_type": "code",
   "execution_count": 21,
   "id": "a45cf33f",
   "metadata": {},
   "outputs": [],
   "source": [
    "import pandas as pd\n",
    "df.to_csv('test_tmp.csv')"
   ]
  },
  {
   "cell_type": "code",
   "execution_count": null,
   "id": "8140ceca",
   "metadata": {},
   "outputs": [],
   "source": []
  }
 ],
 "metadata": {
  "kernelspec": {
   "display_name": "Python 3 (ipykernel)",
   "language": "python",
   "name": "python3"
  },
  "language_info": {
   "codemirror_mode": {
    "name": "ipython",
    "version": 3
   },
   "file_extension": ".py",
   "mimetype": "text/x-python",
   "name": "python",
   "nbconvert_exporter": "python",
   "pygments_lexer": "ipython3",
   "version": "3.9.2"
  }
 },
 "nbformat": 4,
 "nbformat_minor": 5
}
