{
 "cells": [
  {
   "cell_type": "code",
   "execution_count": 7,
   "metadata": {},
   "outputs": [],
   "source": [
    "import time\n",
    "import sys\n",
    "from selenium import webdriver\n",
    "from selenium.webdriver.common.by import By\n",
    "from selenium.webdriver.common.keys import Keys\n",
    "from selenium.webdriver import ActionChains\n",
    "from selenium.common.exceptions import NoSuchElementException, TimeoutException\n",
    "from selenium.webdriver.support import expected_conditions as EC\n",
    "from selenium.webdriver.support.wait import WebDriverWait\n",
    "import pandas as pd\n",
    "import csv\n",
    "import random\n",
    "import pandas as pd "
   ]
  },
  {
   "cell_type": "code",
   "execution_count": 8,
   "metadata": {},
   "outputs": [
    {
     "name": "stderr",
     "output_type": "stream",
     "text": [
      "/var/folders/ys/98s0q77d0bl4mpqsp4lf7c740000gn/T/ipykernel_3365/10563790.py:1: DeprecationWarning: executable_path has been deprecated, please pass in a Service object\n",
      "  driver = webdriver.Chrome('/Users/leijunjie/Downloads/chromedriver')\n",
      "/var/folders/ys/98s0q77d0bl4mpqsp4lf7c740000gn/T/ipykernel_3365/10563790.py:3: DeprecationWarning: find_element_by_* commands are deprecated. Please use find_element() instead\n",
      "  input = driver.find_element_by_id('kw')\n",
      "/var/folders/ys/98s0q77d0bl4mpqsp4lf7c740000gn/T/ipykernel_3365/10563790.py:27: DeprecationWarning: find_elements_by_* commands are deprecated. Please use find_elements() instead\n",
      "  items = driver.find_elements_by_css_selector('li.op_trust_item')\n",
      "/usr/local/lib/python3.9/site-packages/selenium/webdriver/remote/webelement.py:483: UserWarning: find_element_by_* commands are deprecated. Please use find_element() instead\n",
      "  warnings.warn(\"find_element_by_* commands are deprecated. Please use find_element() instead\")\n",
      "/usr/local/lib/python3.9/site-packages/selenium/webdriver/remote/webelement.py:501: UserWarning: find_elements_by_* commands are deprecated. Please use find_elements() instead\n",
      "  warnings.warn(\"find_elements_by_* commands are deprecated. Please use find_elements() instead\")\n"
     ]
    },
    {
     "name": "stdout",
     "output_type": "stream",
     "text": [
      "Scraping Page 1...\n"
     ]
    },
    {
     "name": "stderr",
     "output_type": "stream",
     "text": [
      "/var/folders/ys/98s0q77d0bl4mpqsp4lf7c740000gn/T/ipykernel_3365/10563790.py:98: DeprecationWarning: find_element_by_* commands are deprecated. Please use find_element() instead\n",
      "  next_btn = driver.find_element_by_css_selector(\n"
     ]
    },
    {
     "name": "stdout",
     "output_type": "stream",
     "text": [
      "Scraping Page 2...\n",
      "finished!\n"
     ]
    }
   ],
   "source": [
    "driver = webdriver.Chrome('/Users/leijunjie/Downloads/chromedriver')\n",
    "driver.get(\"http://www.baidu.com\")\n",
    "input = driver.find_element_by_id('kw')\n",
    "input.send_keys(\"失信\")\n",
    "time.sleep(1)\n",
    "input.send_keys(\"被执行人\")\n",
    "time.sleep(1)\n",
    "input.send_keys(Keys.ENTER)\n",
    "WebDriverWait(driver, 80).until(EC.visibility_of_element_located((By.CSS_SELECTOR, 'div.op_trust_mainBox')))\n",
    "\n",
    "def fetch_page_data():\n",
    "    \n",
    "    Name_list = [] \n",
    "    Ids = []\n",
    "    val1 = []\n",
    "    val2 = []\n",
    "    val3 = []\n",
    "    val4 = []\n",
    "    val5 = []\n",
    "    val6 = []\n",
    "    val7 = []\n",
    "    val8 = []\n",
    "    \n",
    "    \n",
    "    \n",
    "    \n",
    "    items = driver.find_elements_by_css_selector('li.op_trust_item')\n",
    "    for item in items:\n",
    "        try:\n",
    "            Name = item.find_element_by_css_selector(\n",
    "                'span.op_trust_name').text\n",
    "            Id_number = item.find_element_by_css_selector(\n",
    "                'span.op_trust_fl').text\n",
    "            # Click & Open baidu Bulletin Board\n",
    "            ActionChains(driver).click(item).perform()\n",
    "            values = item.find_elements_by_css_selector(\n",
    "                'tbody td.op_trust_tdRight')\n",
    "        except StaleElementReferenceException:\n",
    "            # if element attachment error then we rest for 1 sec and repeat this process; \n",
    "            try:\n",
    "                print(\"出现异常，等待重试...\")\n",
    "                time.sleep(1)\n",
    "                ActionChains(self.driver).click(item).perform()\n",
    "                values = item.find_elements_by_css_selector(\n",
    "                    'tbody td.op_trust_tdRight')\n",
    "            except StaleElementReferenceException:\n",
    "                print(\"重试失败，跳过该公告...\")\n",
    "                continue\n",
    "            \n",
    "        if len(values) == 7: \n",
    "            Name_list.append(Name)\n",
    "            Ids.append(Id_number)\n",
    "            val1.append(values[0].text)\n",
    "            val2.append(values[1].text)\n",
    "            val3.append(values[2].text)\n",
    "            val4.append(values[3].text)\n",
    "            val5.append(values[4].text)\n",
    "            val6.append(values[5].text)\n",
    "            val7.append(values[6].text)\n",
    "            val8.append('individual')\n",
    "        else: \n",
    "            Name_list.append(Name)\n",
    "            Ids.append(Id_number)\n",
    "            val1.append(values[1].text)\n",
    "            val2.append(values[2].text)\n",
    "            val3.append(values[3].text)\n",
    "            val4.append(values[4].text)\n",
    "            val5.append(values[5].text)\n",
    "            val6.append(values[6].text)\n",
    "            val7.append(values[7].text)\n",
    "            val8.append(values[0].text)\n",
    "            \n",
    "            \n",
    "    \n",
    "    df_temp = pd.DataFrame(\n",
    "    {\n",
    "        \"Name\": Name_list, \n",
    "        \"ID_Num\": Id_number, \n",
    "        \"执行法院\": val1,\n",
    "        \"省份\":val2,\n",
    "        \"案号\":val3 ,\n",
    "        \"生效法律文书\":val4,\n",
    "        \"被执行人情况\":val5,\n",
    "        \"具体行为\":val6,\n",
    "        \"发布时间\":val7, \n",
    "        \"if_company\":val8 \n",
    "    })\n",
    "    \n",
    "    return df_temp\n",
    "        \n",
    "\n",
    "\n",
    "    \n",
    "df = fetch_page_data()\n",
    "pagenum = 1 \n",
    "while (pagenum < 3):\n",
    "    print(\"Scraping Page %d...\" % pagenum)\n",
    "    next_btn = driver.find_element_by_css_selector(\n",
    "        'div.op_trust_page span.op_trust_page_next')\n",
    "    ActionChains(driver).click(next_btn).perform()\n",
    "    time.sleep(random.randint(10,12))\n",
    "    df_2 = fetch_page_data()\n",
    "    df = pd.merge(df, df_2, how='outer')\n",
    "\n",
    "    time.sleep(random.randint(5,9))\n",
    "    pagenum +=1 \n",
    "\n",
    "print('finished!')\n"
   ]
  },
  {
   "cell_type": "code",
   "execution_count": 9,
   "metadata": {},
   "outputs": [
    {
     "name": "stdout",
     "output_type": "stream",
     "text": [
      "<class 'pandas.core.frame.DataFrame'>\n",
      "Int64Index: 24 entries, 0 to 23\n",
      "Data columns (total 10 columns):\n",
      " #   Column      Non-Null Count  Dtype \n",
      "---  ------      --------------  ----- \n",
      " 0   Name        24 non-null     object\n",
      " 1   ID_Num      24 non-null     object\n",
      " 2   执行法院        24 non-null     object\n",
      " 3   省份          24 non-null     object\n",
      " 4   案号          24 non-null     object\n",
      " 5   生效法律文书      24 non-null     object\n",
      " 6   被执行人情况      24 non-null     object\n",
      " 7   具体行为        24 non-null     object\n",
      " 8   发布时间        24 non-null     object\n",
      " 9   if_company  24 non-null     object\n",
      "dtypes: object(10)\n",
      "memory usage: 2.1+ KB\n"
     ]
    }
   ],
   "source": [
    "df.info()"
   ]
  },
  {
   "cell_type": "code",
   "execution_count": null,
   "metadata": {
    "scrolled": false
   },
   "outputs": [],
   "source": [
    "df"
   ]
  },
  {
   "cell_type": "code",
   "execution_count": null,
   "metadata": {},
   "outputs": [],
   "source": []
  }
 ],
 "metadata": {
  "kernelspec": {
   "display_name": "Python 3 (ipykernel)",
   "language": "python",
   "name": "python3"
  },
  "language_info": {
   "codemirror_mode": {
    "name": "ipython",
    "version": 3
   },
   "file_extension": ".py",
   "mimetype": "text/x-python",
   "name": "python",
   "nbconvert_exporter": "python",
   "pygments_lexer": "ipython3",
   "version": "3.9.2"
  }
 },
 "nbformat": 4,
 "nbformat_minor": 2
}
