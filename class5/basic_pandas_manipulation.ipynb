{
 "cells": [
  {
   "cell_type": "markdown",
   "id": "a3cf67de",
   "metadata": {},
   "source": [
    "# Pandas basic manipulation\n",
    "## A/B Testing for ShoeFly.com"
   ]
  },
  {
   "cell_type": "code",
   "execution_count": 100,
   "id": "4187e393",
   "metadata": {},
   "outputs": [],
   "source": [
    "import numpy as np\n",
    "import pandas as pd\n",
    "import matplotlib.pyplot as plt\n",
    "%matplotlib inline"
   ]
  },
  {
   "cell_type": "code",
   "execution_count": 7,
   "id": "dbeb1e9f",
   "metadata": {},
   "outputs": [
    {
     "data": {
      "text/html": [
       "<div>\n",
       "<style scoped>\n",
       "    .dataframe tbody tr th:only-of-type {\n",
       "        vertical-align: middle;\n",
       "    }\n",
       "\n",
       "    .dataframe tbody tr th {\n",
       "        vertical-align: top;\n",
       "    }\n",
       "\n",
       "    .dataframe thead th {\n",
       "        text-align: right;\n",
       "    }\n",
       "</style>\n",
       "<table border=\"1\" class=\"dataframe\">\n",
       "  <thead>\n",
       "    <tr style=\"text-align: right;\">\n",
       "      <th></th>\n",
       "      <th>user_id</th>\n",
       "      <th>utm_source</th>\n",
       "      <th>day</th>\n",
       "      <th>ad_click_timestamp</th>\n",
       "      <th>experimental_group</th>\n",
       "    </tr>\n",
       "  </thead>\n",
       "  <tbody>\n",
       "    <tr>\n",
       "      <th>89</th>\n",
       "      <td>0ffe21ef-31b3-43f4-97fe-22cb7e77f6a0</td>\n",
       "      <td>facebook</td>\n",
       "      <td>5 - Friday</td>\n",
       "      <td>NaN</td>\n",
       "      <td>A</td>\n",
       "    </tr>\n",
       "    <tr>\n",
       "      <th>167</th>\n",
       "      <td>1b512fff-6426-4ba3-85d7-99047d17669b</td>\n",
       "      <td>google</td>\n",
       "      <td>2 - Tuesday</td>\n",
       "      <td>NaN</td>\n",
       "      <td>B</td>\n",
       "    </tr>\n",
       "    <tr>\n",
       "      <th>1117</th>\n",
       "      <td>ad56b675-ecba-447c-9128-379b46fd8274</td>\n",
       "      <td>google</td>\n",
       "      <td>4 - Thursday</td>\n",
       "      <td>NaN</td>\n",
       "      <td>A</td>\n",
       "    </tr>\n",
       "    <tr>\n",
       "      <th>1019</th>\n",
       "      <td>9d057cb7-efdf-4083-a8d5-4d9508a8bbb3</td>\n",
       "      <td>twitter</td>\n",
       "      <td>6 - Saturday</td>\n",
       "      <td>21:18</td>\n",
       "      <td>B</td>\n",
       "    </tr>\n",
       "    <tr>\n",
       "      <th>1161</th>\n",
       "      <td>b2d56369-64c4-4814-9c6c-1da1c26f9a3f</td>\n",
       "      <td>google</td>\n",
       "      <td>2 - Tuesday</td>\n",
       "      <td>9:31</td>\n",
       "      <td>A</td>\n",
       "    </tr>\n",
       "    <tr>\n",
       "      <th>542</th>\n",
       "      <td>5792b79f-8e69-4bd0-ac37-c3d3f5ee6f3c</td>\n",
       "      <td>facebook</td>\n",
       "      <td>3 - Wednesday</td>\n",
       "      <td>NaN</td>\n",
       "      <td>A</td>\n",
       "    </tr>\n",
       "    <tr>\n",
       "      <th>1168</th>\n",
       "      <td>b4d6e26f-24ff-43d4-8c90-77d852cde4b3</td>\n",
       "      <td>facebook</td>\n",
       "      <td>4 - Thursday</td>\n",
       "      <td>9:35</td>\n",
       "      <td>A</td>\n",
       "    </tr>\n",
       "    <tr>\n",
       "      <th>333</th>\n",
       "      <td>362fe799-2bd1-4486-97ae-2bf52b3bdd27</td>\n",
       "      <td>google</td>\n",
       "      <td>6 - Saturday</td>\n",
       "      <td>14:24</td>\n",
       "      <td>A</td>\n",
       "    </tr>\n",
       "    <tr>\n",
       "      <th>1578</th>\n",
       "      <td>f47e99f3-b15a-4f37-95fb-d7290b3f6c39</td>\n",
       "      <td>email</td>\n",
       "      <td>5 - Friday</td>\n",
       "      <td>NaN</td>\n",
       "      <td>B</td>\n",
       "    </tr>\n",
       "    <tr>\n",
       "      <th>175</th>\n",
       "      <td>1cc72b9f-0b2c-4af0-b416-ccec1ec3009b</td>\n",
       "      <td>facebook</td>\n",
       "      <td>1 - Monday</td>\n",
       "      <td>16:14</td>\n",
       "      <td>A</td>\n",
       "    </tr>\n",
       "  </tbody>\n",
       "</table>\n",
       "</div>"
      ],
      "text/plain": [
       "                                   user_id utm_source            day  \\\n",
       "89    0ffe21ef-31b3-43f4-97fe-22cb7e77f6a0   facebook     5 - Friday   \n",
       "167   1b512fff-6426-4ba3-85d7-99047d17669b     google    2 - Tuesday   \n",
       "1117  ad56b675-ecba-447c-9128-379b46fd8274     google   4 - Thursday   \n",
       "1019  9d057cb7-efdf-4083-a8d5-4d9508a8bbb3    twitter   6 - Saturday   \n",
       "1161  b2d56369-64c4-4814-9c6c-1da1c26f9a3f     google    2 - Tuesday   \n",
       "542   5792b79f-8e69-4bd0-ac37-c3d3f5ee6f3c   facebook  3 - Wednesday   \n",
       "1168  b4d6e26f-24ff-43d4-8c90-77d852cde4b3   facebook   4 - Thursday   \n",
       "333   362fe799-2bd1-4486-97ae-2bf52b3bdd27     google   6 - Saturday   \n",
       "1578  f47e99f3-b15a-4f37-95fb-d7290b3f6c39      email     5 - Friday   \n",
       "175   1cc72b9f-0b2c-4af0-b416-ccec1ec3009b   facebook     1 - Monday   \n",
       "\n",
       "     ad_click_timestamp experimental_group  \n",
       "89                  NaN                  A  \n",
       "167                 NaN                  B  \n",
       "1117                NaN                  A  \n",
       "1019              21:18                  B  \n",
       "1161               9:31                  A  \n",
       "542                 NaN                  A  \n",
       "1168               9:35                  A  \n",
       "333               14:24                  A  \n",
       "1578                NaN                  B  \n",
       "175               16:14                  A  "
      ]
     },
     "execution_count": 7,
     "metadata": {},
     "output_type": "execute_result"
    }
   ],
   "source": [
    "df=pd.read_csv(\"./data/ad_clicks.csv\")\n",
    "df.sample(10)"
   ]
  },
  {
   "cell_type": "markdown",
   "id": "96416d1d",
   "metadata": {},
   "source": [
    "## Check datatypes of columns"
   ]
  },
  {
   "cell_type": "code",
   "execution_count": 8,
   "id": "d5c140d5",
   "metadata": {},
   "outputs": [
    {
     "data": {
      "text/plain": [
       "user_id               object\n",
       "utm_source            object\n",
       "day                   object\n",
       "ad_click_timestamp    object\n",
       "experimental_group    object\n",
       "dtype: object"
      ]
     },
     "execution_count": 8,
     "metadata": {},
     "output_type": "execute_result"
    }
   ],
   "source": [
    "df.dtypes"
   ]
  },
  {
   "cell_type": "markdown",
   "id": "f8131b66",
   "metadata": {},
   "source": [
    "## Check NAs"
   ]
  },
  {
   "cell_type": "code",
   "execution_count": 14,
   "id": "08c91a5a",
   "metadata": {},
   "outputs": [
    {
     "data": {
      "text/plain": [
       "user_id                  0\n",
       "utm_source               0\n",
       "day                      0\n",
       "ad_click_timestamp    1089\n",
       "experimental_group       0\n",
       "dtype: int64"
      ]
     },
     "execution_count": 14,
     "metadata": {},
     "output_type": "execute_result"
    }
   ],
   "source": [
    "df.isnull().sum()  # for now, we do not perform any operation on the NAs"
   ]
  },
  {
   "cell_type": "markdown",
   "id": "2347cb84",
   "metadata": {},
   "source": [
    "## Descriptive Statistics"
   ]
  },
  {
   "cell_type": "code",
   "execution_count": 22,
   "id": "e24af969",
   "metadata": {},
   "outputs": [
    {
     "data": {
      "text/html": [
       "<div>\n",
       "<style scoped>\n",
       "    .dataframe tbody tr th:only-of-type {\n",
       "        vertical-align: middle;\n",
       "    }\n",
       "\n",
       "    .dataframe tbody tr th {\n",
       "        vertical-align: top;\n",
       "    }\n",
       "\n",
       "    .dataframe thead th {\n",
       "        text-align: right;\n",
       "    }\n",
       "</style>\n",
       "<table border=\"1\" class=\"dataframe\">\n",
       "  <thead>\n",
       "    <tr style=\"text-align: right;\">\n",
       "      <th></th>\n",
       "      <th>count</th>\n",
       "      <th>unique</th>\n",
       "      <th>top</th>\n",
       "      <th>freq</th>\n",
       "    </tr>\n",
       "  </thead>\n",
       "  <tbody>\n",
       "    <tr>\n",
       "      <th>user_id</th>\n",
       "      <td>1654</td>\n",
       "      <td>1654</td>\n",
       "      <td>1a43b8b5-90e5-4665-90b4-6714bc9a077e</td>\n",
       "      <td>1</td>\n",
       "    </tr>\n",
       "    <tr>\n",
       "      <th>utm_source</th>\n",
       "      <td>1654</td>\n",
       "      <td>4</td>\n",
       "      <td>google</td>\n",
       "      <td>680</td>\n",
       "    </tr>\n",
       "    <tr>\n",
       "      <th>day</th>\n",
       "      <td>1654</td>\n",
       "      <td>7</td>\n",
       "      <td>5 - Friday</td>\n",
       "      <td>256</td>\n",
       "    </tr>\n",
       "    <tr>\n",
       "      <th>ad_click_timestamp</th>\n",
       "      <td>565</td>\n",
       "      <td>464</td>\n",
       "      <td>9:18</td>\n",
       "      <td>4</td>\n",
       "    </tr>\n",
       "    <tr>\n",
       "      <th>experimental_group</th>\n",
       "      <td>1654</td>\n",
       "      <td>2</td>\n",
       "      <td>A</td>\n",
       "      <td>827</td>\n",
       "    </tr>\n",
       "    <tr>\n",
       "      <th>weekday</th>\n",
       "      <td>1654</td>\n",
       "      <td>7</td>\n",
       "      <td>Friday</td>\n",
       "      <td>256</td>\n",
       "    </tr>\n",
       "  </tbody>\n",
       "</table>\n",
       "</div>"
      ],
      "text/plain": [
       "                   count unique                                   top freq\n",
       "user_id             1654   1654  1a43b8b5-90e5-4665-90b4-6714bc9a077e    1\n",
       "utm_source          1654      4                                google  680\n",
       "day                 1654      7                            5 - Friday  256\n",
       "ad_click_timestamp   565    464                                  9:18    4\n",
       "experimental_group  1654      2                                     A  827\n",
       "weekday             1654      7                                Friday  256"
      ]
     },
     "execution_count": 22,
     "metadata": {},
     "output_type": "execute_result"
    }
   ],
   "source": [
    "df.describe().T"
   ]
  },
  {
   "cell_type": "markdown",
   "id": "a9ecd240",
   "metadata": {},
   "source": [
    "## Transform day to weekday"
   ]
  },
  {
   "cell_type": "code",
   "execution_count": 19,
   "id": "96387321",
   "metadata": {},
   "outputs": [
    {
     "data": {
      "text/html": [
       "<div>\n",
       "<style scoped>\n",
       "    .dataframe tbody tr th:only-of-type {\n",
       "        vertical-align: middle;\n",
       "    }\n",
       "\n",
       "    .dataframe tbody tr th {\n",
       "        vertical-align: top;\n",
       "    }\n",
       "\n",
       "    .dataframe thead th {\n",
       "        text-align: right;\n",
       "    }\n",
       "</style>\n",
       "<table border=\"1\" class=\"dataframe\">\n",
       "  <thead>\n",
       "    <tr style=\"text-align: right;\">\n",
       "      <th></th>\n",
       "      <th>user_id</th>\n",
       "      <th>utm_source</th>\n",
       "      <th>day</th>\n",
       "      <th>ad_click_timestamp</th>\n",
       "      <th>experimental_group</th>\n",
       "      <th>weekday</th>\n",
       "    </tr>\n",
       "  </thead>\n",
       "  <tbody>\n",
       "    <tr>\n",
       "      <th>449</th>\n",
       "      <td>49a6a9fc-cc3b-4619-bb07-59348705cfd5</td>\n",
       "      <td>google</td>\n",
       "      <td>4 - Thursday</td>\n",
       "      <td>NaN</td>\n",
       "      <td>A</td>\n",
       "      <td>Thursday</td>\n",
       "    </tr>\n",
       "    <tr>\n",
       "      <th>1615</th>\n",
       "      <td>f9016121-4210-4163-971b-90a17a136d8d</td>\n",
       "      <td>email</td>\n",
       "      <td>4 - Thursday</td>\n",
       "      <td>NaN</td>\n",
       "      <td>B</td>\n",
       "      <td>Thursday</td>\n",
       "    </tr>\n",
       "    <tr>\n",
       "      <th>700</th>\n",
       "      <td>6e3c5a1e-236a-4ef2-a70b-cfb21cc13f45</td>\n",
       "      <td>facebook</td>\n",
       "      <td>6 - Saturday</td>\n",
       "      <td>NaN</td>\n",
       "      <td>A</td>\n",
       "      <td>Saturday</td>\n",
       "    </tr>\n",
       "    <tr>\n",
       "      <th>1613</th>\n",
       "      <td>f8f8de19-1129-497b-a8fd-1f357bb103a0</td>\n",
       "      <td>facebook</td>\n",
       "      <td>6 - Saturday</td>\n",
       "      <td>11:6</td>\n",
       "      <td>A</td>\n",
       "      <td>Saturday</td>\n",
       "    </tr>\n",
       "    <tr>\n",
       "      <th>1138</th>\n",
       "      <td>b054df1e-dba8-4d97-9554-c1ed91f250ce</td>\n",
       "      <td>facebook</td>\n",
       "      <td>6 - Saturday</td>\n",
       "      <td>NaN</td>\n",
       "      <td>A</td>\n",
       "      <td>Saturday</td>\n",
       "    </tr>\n",
       "  </tbody>\n",
       "</table>\n",
       "</div>"
      ],
      "text/plain": [
       "                                   user_id utm_source           day  \\\n",
       "449   49a6a9fc-cc3b-4619-bb07-59348705cfd5     google  4 - Thursday   \n",
       "1615  f9016121-4210-4163-971b-90a17a136d8d      email  4 - Thursday   \n",
       "700   6e3c5a1e-236a-4ef2-a70b-cfb21cc13f45   facebook  6 - Saturday   \n",
       "1613  f8f8de19-1129-497b-a8fd-1f357bb103a0   facebook  6 - Saturday   \n",
       "1138  b054df1e-dba8-4d97-9554-c1ed91f250ce   facebook  6 - Saturday   \n",
       "\n",
       "     ad_click_timestamp experimental_group    weekday  \n",
       "449                 NaN                  A   Thursday  \n",
       "1615                NaN                  B   Thursday  \n",
       "700                 NaN                  A   Saturday  \n",
       "1613               11:6                  A   Saturday  \n",
       "1138                NaN                  A   Saturday  "
      ]
     },
     "execution_count": 19,
     "metadata": {},
     "output_type": "execute_result"
    }
   ],
   "source": [
    "# df.day.head(1)\n",
    "df['weekday'] = df.day.str.split('-').str.get(1)\n",
    "df.sample(5)"
   ]
  },
  {
   "cell_type": "markdown",
   "id": "2a812915",
   "metadata": {},
   "source": [
    "# Click Thru Rate"
   ]
  },
  {
   "cell_type": "code",
   "execution_count": 29,
   "id": "eddbb9cc",
   "metadata": {},
   "outputs": [
    {
     "data": {
      "text/html": [
       "<div>\n",
       "<style scoped>\n",
       "    .dataframe tbody tr th:only-of-type {\n",
       "        vertical-align: middle;\n",
       "    }\n",
       "\n",
       "    .dataframe tbody tr th {\n",
       "        vertical-align: top;\n",
       "    }\n",
       "\n",
       "    .dataframe thead th {\n",
       "        text-align: right;\n",
       "    }\n",
       "</style>\n",
       "<table border=\"1\" class=\"dataframe\">\n",
       "  <thead>\n",
       "    <tr style=\"text-align: right;\">\n",
       "      <th></th>\n",
       "      <th>is_click</th>\n",
       "      <th>ad_click_timestamp</th>\n",
       "    </tr>\n",
       "  </thead>\n",
       "  <tbody>\n",
       "    <tr>\n",
       "      <th>879</th>\n",
       "      <td>True</td>\n",
       "      <td>0:44</td>\n",
       "    </tr>\n",
       "    <tr>\n",
       "      <th>1453</th>\n",
       "      <td>False</td>\n",
       "      <td>NaN</td>\n",
       "    </tr>\n",
       "    <tr>\n",
       "      <th>17</th>\n",
       "      <td>False</td>\n",
       "      <td>NaN</td>\n",
       "    </tr>\n",
       "    <tr>\n",
       "      <th>1512</th>\n",
       "      <td>False</td>\n",
       "      <td>NaN</td>\n",
       "    </tr>\n",
       "  </tbody>\n",
       "</table>\n",
       "</div>"
      ],
      "text/plain": [
       "      is_click ad_click_timestamp\n",
       "879       True               0:44\n",
       "1453     False                NaN\n",
       "17       False                NaN\n",
       "1512     False                NaN"
      ]
     },
     "execution_count": 29,
     "metadata": {},
     "output_type": "execute_result"
    }
   ],
   "source": [
    "df['is_click'] = ~df.ad_click_timestamp.isnull()\n",
    "df.sample(4)[['is_click', 'ad_click_timestamp']]"
   ]
  },
  {
   "cell_type": "markdown",
   "id": "bca409f9",
   "metadata": {},
   "source": [
    "# Calculate the click thru rate by platform"
   ]
  },
  {
   "cell_type": "code",
   "execution_count": 36,
   "id": "7ea5cd9a",
   "metadata": {},
   "outputs": [
    {
     "data": {
      "text/html": [
       "<div>\n",
       "<style scoped>\n",
       "    .dataframe tbody tr th:only-of-type {\n",
       "        vertical-align: middle;\n",
       "    }\n",
       "\n",
       "    .dataframe tbody tr th {\n",
       "        vertical-align: top;\n",
       "    }\n",
       "\n",
       "    .dataframe thead th {\n",
       "        text-align: right;\n",
       "    }\n",
       "</style>\n",
       "<table border=\"1\" class=\"dataframe\">\n",
       "  <thead>\n",
       "    <tr style=\"text-align: right;\">\n",
       "      <th></th>\n",
       "      <th>utm_source</th>\n",
       "      <th>is_click</th>\n",
       "      <th>count</th>\n",
       "    </tr>\n",
       "  </thead>\n",
       "  <tbody>\n",
       "    <tr>\n",
       "      <th>0</th>\n",
       "      <td>email</td>\n",
       "      <td>False</td>\n",
       "      <td>175</td>\n",
       "    </tr>\n",
       "    <tr>\n",
       "      <th>1</th>\n",
       "      <td>email</td>\n",
       "      <td>True</td>\n",
       "      <td>80</td>\n",
       "    </tr>\n",
       "    <tr>\n",
       "      <th>2</th>\n",
       "      <td>facebook</td>\n",
       "      <td>False</td>\n",
       "      <td>324</td>\n",
       "    </tr>\n",
       "    <tr>\n",
       "      <th>3</th>\n",
       "      <td>facebook</td>\n",
       "      <td>True</td>\n",
       "      <td>180</td>\n",
       "    </tr>\n",
       "    <tr>\n",
       "      <th>4</th>\n",
       "      <td>google</td>\n",
       "      <td>False</td>\n",
       "      <td>441</td>\n",
       "    </tr>\n",
       "    <tr>\n",
       "      <th>5</th>\n",
       "      <td>google</td>\n",
       "      <td>True</td>\n",
       "      <td>239</td>\n",
       "    </tr>\n",
       "    <tr>\n",
       "      <th>6</th>\n",
       "      <td>twitter</td>\n",
       "      <td>False</td>\n",
       "      <td>149</td>\n",
       "    </tr>\n",
       "    <tr>\n",
       "      <th>7</th>\n",
       "      <td>twitter</td>\n",
       "      <td>True</td>\n",
       "      <td>66</td>\n",
       "    </tr>\n",
       "  </tbody>\n",
       "</table>\n",
       "</div>"
      ],
      "text/plain": [
       "  utm_source  is_click  count\n",
       "0      email     False    175\n",
       "1      email      True     80\n",
       "2   facebook     False    324\n",
       "3   facebook      True    180\n",
       "4     google     False    441\n",
       "5     google      True    239\n",
       "6    twitter     False    149\n",
       "7    twitter      True     66"
      ]
     },
     "execution_count": 36,
     "metadata": {},
     "output_type": "execute_result"
    }
   ],
   "source": [
    "platform_visit = df.groupby(['utm_source', 'is_click'])['user_id'].count().reset_index().rename(columns={'user_id':'count'})\n",
    "platform_visit"
   ]
  },
  {
   "cell_type": "markdown",
   "id": "9d508998",
   "metadata": {},
   "source": [
    "## Pivot the table to see more clearly"
   ]
  },
  {
   "cell_type": "code",
   "execution_count": 49,
   "id": "2b4e6b7a",
   "metadata": {},
   "outputs": [
    {
     "data": {
      "text/html": [
       "<div>\n",
       "<style scoped>\n",
       "    .dataframe tbody tr th:only-of-type {\n",
       "        vertical-align: middle;\n",
       "    }\n",
       "\n",
       "    .dataframe tbody tr th {\n",
       "        vertical-align: top;\n",
       "    }\n",
       "\n",
       "    .dataframe thead th {\n",
       "        text-align: right;\n",
       "    }\n",
       "</style>\n",
       "<table border=\"1\" class=\"dataframe\">\n",
       "  <thead>\n",
       "    <tr style=\"text-align: right;\">\n",
       "      <th></th>\n",
       "      <th>utm_source</th>\n",
       "      <th>is_click</th>\n",
       "      <th>count</th>\n",
       "    </tr>\n",
       "  </thead>\n",
       "  <tbody>\n",
       "    <tr>\n",
       "      <th>0</th>\n",
       "      <td>email</td>\n",
       "      <td>False</td>\n",
       "      <td>175</td>\n",
       "    </tr>\n",
       "    <tr>\n",
       "      <th>1</th>\n",
       "      <td>email</td>\n",
       "      <td>True</td>\n",
       "      <td>80</td>\n",
       "    </tr>\n",
       "    <tr>\n",
       "      <th>2</th>\n",
       "      <td>facebook</td>\n",
       "      <td>False</td>\n",
       "      <td>324</td>\n",
       "    </tr>\n",
       "    <tr>\n",
       "      <th>3</th>\n",
       "      <td>facebook</td>\n",
       "      <td>True</td>\n",
       "      <td>180</td>\n",
       "    </tr>\n",
       "    <tr>\n",
       "      <th>4</th>\n",
       "      <td>google</td>\n",
       "      <td>False</td>\n",
       "      <td>441</td>\n",
       "    </tr>\n",
       "    <tr>\n",
       "      <th>5</th>\n",
       "      <td>google</td>\n",
       "      <td>True</td>\n",
       "      <td>239</td>\n",
       "    </tr>\n",
       "    <tr>\n",
       "      <th>6</th>\n",
       "      <td>twitter</td>\n",
       "      <td>False</td>\n",
       "      <td>149</td>\n",
       "    </tr>\n",
       "    <tr>\n",
       "      <th>7</th>\n",
       "      <td>twitter</td>\n",
       "      <td>True</td>\n",
       "      <td>66</td>\n",
       "    </tr>\n",
       "  </tbody>\n",
       "</table>\n",
       "</div>"
      ],
      "text/plain": [
       "  utm_source  is_click  count\n",
       "0      email     False    175\n",
       "1      email      True     80\n",
       "2   facebook     False    324\n",
       "3   facebook      True    180\n",
       "4     google     False    441\n",
       "5     google      True    239\n",
       "6    twitter     False    149\n",
       "7    twitter      True     66"
      ]
     },
     "execution_count": 49,
     "metadata": {},
     "output_type": "execute_result"
    }
   ],
   "source": [
    "pltform_pivoted = platform_visit.pivot(\n",
    "    index = 'utm_source', \n",
    "    columns = 'is_click', \n",
    "    values = 'count'\n",
    ").reset_index()\n",
    "platform_visit"
   ]
  },
  {
   "cell_type": "markdown",
   "id": "e5ad083e",
   "metadata": {},
   "source": [
    "## Click thru rate"
   ]
  },
  {
   "cell_type": "code",
   "execution_count": 48,
   "id": "8f7b7f1d",
   "metadata": {},
   "outputs": [
    {
     "data": {
      "text/html": [
       "<div>\n",
       "<style scoped>\n",
       "    .dataframe tbody tr th:only-of-type {\n",
       "        vertical-align: middle;\n",
       "    }\n",
       "\n",
       "    .dataframe tbody tr th {\n",
       "        vertical-align: top;\n",
       "    }\n",
       "\n",
       "    .dataframe thead th {\n",
       "        text-align: right;\n",
       "    }\n",
       "</style>\n",
       "<table border=\"1\" class=\"dataframe\">\n",
       "  <thead>\n",
       "    <tr style=\"text-align: right;\">\n",
       "      <th>is_click</th>\n",
       "      <th>utm_source</th>\n",
       "      <th>False</th>\n",
       "      <th>True</th>\n",
       "      <th>click_thru_rate</th>\n",
       "    </tr>\n",
       "  </thead>\n",
       "  <tbody>\n",
       "    <tr>\n",
       "      <th>0</th>\n",
       "      <td>email</td>\n",
       "      <td>175</td>\n",
       "      <td>80</td>\n",
       "      <td>0.313725</td>\n",
       "    </tr>\n",
       "    <tr>\n",
       "      <th>1</th>\n",
       "      <td>facebook</td>\n",
       "      <td>324</td>\n",
       "      <td>180</td>\n",
       "      <td>0.357143</td>\n",
       "    </tr>\n",
       "    <tr>\n",
       "      <th>2</th>\n",
       "      <td>google</td>\n",
       "      <td>441</td>\n",
       "      <td>239</td>\n",
       "      <td>0.351471</td>\n",
       "    </tr>\n",
       "    <tr>\n",
       "      <th>3</th>\n",
       "      <td>twitter</td>\n",
       "      <td>149</td>\n",
       "      <td>66</td>\n",
       "      <td>0.306977</td>\n",
       "    </tr>\n",
       "  </tbody>\n",
       "</table>\n",
       "</div>"
      ],
      "text/plain": [
       "is_click utm_source  False  True  click_thru_rate\n",
       "0             email    175    80         0.313725\n",
       "1          facebook    324   180         0.357143\n",
       "2            google    441   239         0.351471\n",
       "3           twitter    149    66         0.306977"
      ]
     },
     "execution_count": 48,
     "metadata": {},
     "output_type": "execute_result"
    }
   ],
   "source": [
    "pltform_pivoted['click_thru_rate'] = pltform_pivoted.apply(lambda row :\\ \n",
    "                                                           row[True]/(row[True] + row[False]),\\\n",
    "                                                           axis=1)\n",
    "pltform_pivoted"
   ]
  },
  {
   "cell_type": "markdown",
   "id": "60156f8a",
   "metadata": {},
   "source": [
    "# Simple A/B testing"
   ]
  },
  {
   "cell_type": "code",
   "execution_count": 66,
   "id": "249cb538",
   "metadata": {},
   "outputs": [
    {
     "data": {
      "text/html": [
       "<div>\n",
       "<style scoped>\n",
       "    .dataframe tbody tr th:only-of-type {\n",
       "        vertical-align: middle;\n",
       "    }\n",
       "\n",
       "    .dataframe tbody tr th {\n",
       "        vertical-align: top;\n",
       "    }\n",
       "\n",
       "    .dataframe thead th {\n",
       "        text-align: right;\n",
       "    }\n",
       "</style>\n",
       "<table border=\"1\" class=\"dataframe\">\n",
       "  <thead>\n",
       "    <tr style=\"text-align: right;\">\n",
       "      <th></th>\n",
       "      <th>user_id</th>\n",
       "      <th>utm_source</th>\n",
       "      <th>day</th>\n",
       "      <th>ad_click_timestamp</th>\n",
       "      <th>experimental_group</th>\n",
       "      <th>weekday</th>\n",
       "      <th>is_click</th>\n",
       "    </tr>\n",
       "  </thead>\n",
       "  <tbody>\n",
       "    <tr>\n",
       "      <th>964</th>\n",
       "      <td>9658e9c7-7b57-4336-bcfa-a7930fe564a9</td>\n",
       "      <td>google</td>\n",
       "      <td>4 - Thursday</td>\n",
       "      <td>NaN</td>\n",
       "      <td>A</td>\n",
       "      <td>Thursday</td>\n",
       "      <td>False</td>\n",
       "    </tr>\n",
       "    <tr>\n",
       "      <th>566</th>\n",
       "      <td>5a972a3a-6e18-42af-89c9-1fbe7b84b421</td>\n",
       "      <td>google</td>\n",
       "      <td>1 - Monday</td>\n",
       "      <td>NaN</td>\n",
       "      <td>A</td>\n",
       "      <td>Monday</td>\n",
       "      <td>False</td>\n",
       "    </tr>\n",
       "    <tr>\n",
       "      <th>963</th>\n",
       "      <td>9638c9f5-0ef7-4e5c-a103-31371868f809</td>\n",
       "      <td>google</td>\n",
       "      <td>5 - Friday</td>\n",
       "      <td>9:49</td>\n",
       "      <td>A</td>\n",
       "      <td>Friday</td>\n",
       "      <td>True</td>\n",
       "    </tr>\n",
       "    <tr>\n",
       "      <th>394</th>\n",
       "      <td>40a9d95c-513e-459d-a2e2-265d379592b6</td>\n",
       "      <td>google</td>\n",
       "      <td>5 - Friday</td>\n",
       "      <td>11:29</td>\n",
       "      <td>A</td>\n",
       "      <td>Friday</td>\n",
       "      <td>True</td>\n",
       "    </tr>\n",
       "    <tr>\n",
       "      <th>1165</th>\n",
       "      <td>b413ae12-f7fc-4b1c-8979-723aaca9d81a</td>\n",
       "      <td>facebook</td>\n",
       "      <td>7 - Sunday</td>\n",
       "      <td>NaN</td>\n",
       "      <td>A</td>\n",
       "      <td>Sunday</td>\n",
       "      <td>False</td>\n",
       "    </tr>\n",
       "  </tbody>\n",
       "</table>\n",
       "</div>"
      ],
      "text/plain": [
       "                                   user_id utm_source           day  \\\n",
       "964   9658e9c7-7b57-4336-bcfa-a7930fe564a9     google  4 - Thursday   \n",
       "566   5a972a3a-6e18-42af-89c9-1fbe7b84b421     google    1 - Monday   \n",
       "963   9638c9f5-0ef7-4e5c-a103-31371868f809     google    5 - Friday   \n",
       "394   40a9d95c-513e-459d-a2e2-265d379592b6     google    5 - Friday   \n",
       "1165  b413ae12-f7fc-4b1c-8979-723aaca9d81a   facebook    7 - Sunday   \n",
       "\n",
       "     ad_click_timestamp experimental_group    weekday  is_click  \n",
       "964                 NaN                  A   Thursday     False  \n",
       "566                 NaN                  A     Monday     False  \n",
       "963                9:49                  A     Friday      True  \n",
       "394               11:29                  A     Friday      True  \n",
       "1165                NaN                  A     Sunday     False  "
      ]
     },
     "execution_count": 66,
     "metadata": {},
     "output_type": "execute_result"
    }
   ],
   "source": [
    "grp_a = df[df.experimental_group == \"A\"]\n",
    "grp_a.sample(5)"
   ]
  },
  {
   "cell_type": "code",
   "execution_count": 67,
   "id": "dec9c549",
   "metadata": {},
   "outputs": [],
   "source": [
    "grp_a=grp_a.groupby(['is_click', 'day'])['user_id'].count().reset_index().rename(columns = {'user_id':'count'})"
   ]
  },
  {
   "cell_type": "code",
   "execution_count": 68,
   "id": "64e53aca",
   "metadata": {},
   "outputs": [
    {
     "name": "stdout",
     "output_type": "stream",
     "text": [
      "<class 'pandas.core.series.Series'>\n"
     ]
    }
   ],
   "source": [
    "grp_a = grp_a.pivot(index='day', columns='is_click', values='count').reset_index()\n",
    "click_thru_rate_a = grp_a[True]/(grp_a[True] + grp_a[False])\n",
    "print(type(click_thru_rate_a))"
   ]
  },
  {
   "cell_type": "code",
   "execution_count": 69,
   "id": "43ed180c",
   "metadata": {},
   "outputs": [
    {
     "name": "stdout",
     "output_type": "stream",
     "text": [
      "<class 'pandas.core.series.Series'>\n"
     ]
    }
   ],
   "source": [
    "grp_b = df[df.experimental_group == \"B\"]\n",
    "grp_b.sample(5)\n",
    "grp_b=grp_b.groupby(['is_click', 'day'])['user_id'].count().reset_index().rename(columns = {'user_id':'count'})\n",
    "\n",
    "grp_b = grp_b.pivot(index='day', columns='is_click', values='count').reset_index()\n",
    "click_thru_rate_b = grp_b[True]/(grp_b[True] + grp_b[False])\n",
    "print(type(click_thru_rate_b))"
   ]
  },
  {
   "cell_type": "code",
   "execution_count": 78,
   "id": "86ee4bce",
   "metadata": {},
   "outputs": [],
   "source": [
    "df = pd.concat([click_thru_rate_a, click_thru_rate_b], axis=1).rename(columns = {0:'A', 1:'B'})"
   ]
  },
  {
   "cell_type": "code",
   "execution_count": 101,
   "id": "b818b2d3",
   "metadata": {},
   "outputs": [
    {
     "data": {
      "text/plain": [
       "<Figure size 720x288 with 0 Axes>"
      ]
     },
     "execution_count": 101,
     "metadata": {},
     "output_type": "execute_result"
    },
    {
     "data": {
      "image/png": "[encoded data removed]",
      "text/plain": [
       "<Figure size 432x288 with 1 Axes>"
      ]
     },
     "metadata": {
      "needs_background": "light"
     },
     "output_type": "display_data"
    },
    {
     "data": {
      "text/plain": [
       "<Figure size 720x288 with 0 Axes>"
      ]
     },
     "metadata": {},
     "output_type": "display_data"
    }
   ],
   "source": [
    "labels = ['Monday', 'Tuesday', 'Wednesday', 'Thursday', 'Friday', 'Saturday', 'Sunday']\n",
    "ax = plt.subplot(1,1,1)\n",
    "plt.plot(df.A, marker='o', linestyle='--')\n",
    "plt.plot(df.B, marker='*')\n",
    "plt.legend(['GroupA', 'GroupB'], loc=0)\n",
    "plt,\n",
    "plt.title('Simple A/B tests')\n",
    "ax.set_xticks(range(len(labels)))\n",
    "ax.set_xticklabels(labels, rotation=45)\n",
    "plt.figure(figsize=(10,4))"
   ]
  },
  {
   "cell_type": "code",
   "execution_count": null,
   "id": "f878648e",
   "metadata": {},
   "outputs": [],
   "source": []
  }
 ],
 "metadata": {
  "kernelspec": {
   "display_name": "Python 3 (ipykernel)",
   "language": "python",
   "name": "python3"
  },
  "language_info": {
   "codemirror_mode": {
    "name": "ipython",
    "version": 3
   },
   "file_extension": ".py",
   "mimetype": "text/x-python",
   "name": "python",
   "nbconvert_exporter": "python",
   "pygments_lexer": "ipython3",
   "version": "3.9.2"
  }
 },
 "nbformat": 4,
 "nbformat_minor": 5
}
